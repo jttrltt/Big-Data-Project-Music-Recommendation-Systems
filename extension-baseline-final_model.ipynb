{
 "cells": [
  {
   "cell_type": "code",
   "execution_count": 26,
   "metadata": {},
   "outputs": [],
   "source": [
    "import re\n",
    "import pandas as pd\n",
    "import matplotlib.pyplot as plt\n",
    "import seaborn as sns\n",
    "# sns.set_theme(style=\"whitegrid\")\n",
    "\n",
    "import pandas as pd\n",
    "%matplotlib inline\n",
    "\n",
    "import pyarrow.parquet as pq\n",
    "import numpy as np\n",
    "\n",
    "import lenskit\n",
    "from lenskit import batch, topn, util\n",
    "from lenskit.algorithms import Recommender, als, bias, item_knn as knn\n",
    "from lenskit import topn\n",
    "\n",
    "from lenskit.algorithms.bias import Bias\n",
    "from tqdm import tqdm"
   ]
  },
  {
   "cell_type": "code",
   "execution_count": 2,
   "metadata": {},
   "outputs": [
    {
     "data": {
      "text/html": [
       "<div>\n",
       "<style scoped>\n",
       "    .dataframe tbody tr th:only-of-type {\n",
       "        vertical-align: middle;\n",
       "    }\n",
       "\n",
       "    .dataframe tbody tr th {\n",
       "        vertical-align: top;\n",
       "    }\n",
       "\n",
       "    .dataframe thead th {\n",
       "        text-align: right;\n",
       "    }\n",
       "</style>\n",
       "<table border=\"1\" class=\"dataframe\">\n",
       "  <thead>\n",
       "    <tr style=\"text-align: right;\">\n",
       "      <th></th>\n",
       "      <th>user_id</th>\n",
       "      <th>rating</th>\n",
       "      <th>track_id</th>\n",
       "      <th>user</th>\n",
       "      <th>item</th>\n",
       "    </tr>\n",
       "  </thead>\n",
       "  <tbody>\n",
       "    <tr>\n",
       "      <th>0</th>\n",
       "      <td>b80344d063b5ccb3212f76538f3d9e43d87dca9e</td>\n",
       "      <td>1</td>\n",
       "      <td>TRIQAUQ128F42435AD</td>\n",
       "      <td>0</td>\n",
       "      <td>0</td>\n",
       "    </tr>\n",
       "    <tr>\n",
       "      <th>1</th>\n",
       "      <td>b80344d063b5ccb3212f76538f3d9e43d87dca9e</td>\n",
       "      <td>1</td>\n",
       "      <td>TRIRLYL128F42539D1</td>\n",
       "      <td>0</td>\n",
       "      <td>1</td>\n",
       "    </tr>\n",
       "    <tr>\n",
       "      <th>2</th>\n",
       "      <td>b80344d063b5ccb3212f76538f3d9e43d87dca9e</td>\n",
       "      <td>2</td>\n",
       "      <td>TRMHBXZ128F4238406</td>\n",
       "      <td>0</td>\n",
       "      <td>2</td>\n",
       "    </tr>\n",
       "    <tr>\n",
       "      <th>3</th>\n",
       "      <td>b80344d063b5ccb3212f76538f3d9e43d87dca9e</td>\n",
       "      <td>1</td>\n",
       "      <td>TRYQMNI128F147C1C7</td>\n",
       "      <td>0</td>\n",
       "      <td>3</td>\n",
       "    </tr>\n",
       "    <tr>\n",
       "      <th>4</th>\n",
       "      <td>b80344d063b5ccb3212f76538f3d9e43d87dca9e</td>\n",
       "      <td>1</td>\n",
       "      <td>TRAHZNE128F9341B86</td>\n",
       "      <td>0</td>\n",
       "      <td>4</td>\n",
       "    </tr>\n",
       "  </tbody>\n",
       "</table>\n",
       "</div>"
      ],
      "text/plain": [
       "                                    user_id  rating            track_id  user  \\\n",
       "0  b80344d063b5ccb3212f76538f3d9e43d87dca9e       1  TRIQAUQ128F42435AD     0   \n",
       "1  b80344d063b5ccb3212f76538f3d9e43d87dca9e       1  TRIRLYL128F42539D1     0   \n",
       "2  b80344d063b5ccb3212f76538f3d9e43d87dca9e       2  TRMHBXZ128F4238406     0   \n",
       "3  b80344d063b5ccb3212f76538f3d9e43d87dca9e       1  TRYQMNI128F147C1C7     0   \n",
       "4  b80344d063b5ccb3212f76538f3d9e43d87dca9e       1  TRAHZNE128F9341B86     0   \n",
       "\n",
       "   item  \n",
       "0     0  \n",
       "1     1  \n",
       "2     2  \n",
       "3     3  \n",
       "4     4  "
      ]
     },
     "execution_count": 2,
     "metadata": {},
     "output_type": "execute_result"
    }
   ],
   "source": [
    "# load data\n",
    "train = pq.read_table('/scratch/work/courses/DSGA1004-2021/MSD/cf_train_new.parquet').to_pandas()\n",
    "\n",
    "usr_idx_dict = {}\n",
    "for idx, usr in enumerate(train.user_id.unique()):\n",
    "    usr_idx_dict[usr] = idx\n",
    "\n",
    "train['user'] = train.user_id.map(usr_idx_dict)\n",
    "\n",
    "track_idx_dict = {}\n",
    "for idx, track in enumerate(train.track_id.unique()):\n",
    "    track_idx_dict[track] = idx\n",
    "\n",
    "train['item'] = train.track_id.map(track_idx_dict)\n",
    "\n",
    "train = train.rename({'count':'rating'}, axis = 1)\n",
    "\n",
    "train.head()"
   ]
  },
  {
   "cell_type": "code",
   "execution_count": 6,
   "metadata": {},
   "outputs": [
    {
     "data": {
      "text/html": [
       "<div>\n",
       "<style scoped>\n",
       "    .dataframe tbody tr th:only-of-type {\n",
       "        vertical-align: middle;\n",
       "    }\n",
       "\n",
       "    .dataframe tbody tr th {\n",
       "        vertical-align: top;\n",
       "    }\n",
       "\n",
       "    .dataframe thead th {\n",
       "        text-align: right;\n",
       "    }\n",
       "</style>\n",
       "<table border=\"1\" class=\"dataframe\">\n",
       "  <thead>\n",
       "    <tr style=\"text-align: right;\">\n",
       "      <th></th>\n",
       "      <th>user_id</th>\n",
       "      <th>rating</th>\n",
       "      <th>track_id</th>\n",
       "      <th>user</th>\n",
       "      <th>item</th>\n",
       "    </tr>\n",
       "  </thead>\n",
       "  <tbody>\n",
       "    <tr>\n",
       "      <th>0</th>\n",
       "      <td>0007140a3796e901f3190f12e9de6d7548d4ac4a</td>\n",
       "      <td>1</td>\n",
       "      <td>TRUFCYO128F422B898</td>\n",
       "      <td>1019318</td>\n",
       "      <td>3011.0</td>\n",
       "    </tr>\n",
       "    <tr>\n",
       "      <th>1</th>\n",
       "      <td>0007140a3796e901f3190f12e9de6d7548d4ac4a</td>\n",
       "      <td>2</td>\n",
       "      <td>TROBZPR128F14808FF</td>\n",
       "      <td>1019318</td>\n",
       "      <td>92073.0</td>\n",
       "    </tr>\n",
       "    <tr>\n",
       "      <th>2</th>\n",
       "      <td>0007140a3796e901f3190f12e9de6d7548d4ac4a</td>\n",
       "      <td>1</td>\n",
       "      <td>TRFGZUW128F92FC2AB</td>\n",
       "      <td>1019318</td>\n",
       "      <td>8868.0</td>\n",
       "    </tr>\n",
       "    <tr>\n",
       "      <th>3</th>\n",
       "      <td>0007140a3796e901f3190f12e9de6d7548d4ac4a</td>\n",
       "      <td>1</td>\n",
       "      <td>TRHTCXG12903CC2F60</td>\n",
       "      <td>1019318</td>\n",
       "      <td>1746.0</td>\n",
       "    </tr>\n",
       "    <tr>\n",
       "      <th>4</th>\n",
       "      <td>0007140a3796e901f3190f12e9de6d7548d4ac4a</td>\n",
       "      <td>1</td>\n",
       "      <td>TRKFBTS128EF34E530</td>\n",
       "      <td>1019318</td>\n",
       "      <td>29411.0</td>\n",
       "    </tr>\n",
       "  </tbody>\n",
       "</table>\n",
       "</div>"
      ],
      "text/plain": [
       "                                    user_id  rating            track_id  \\\n",
       "0  0007140a3796e901f3190f12e9de6d7548d4ac4a       1  TRUFCYO128F422B898   \n",
       "1  0007140a3796e901f3190f12e9de6d7548d4ac4a       2  TROBZPR128F14808FF   \n",
       "2  0007140a3796e901f3190f12e9de6d7548d4ac4a       1  TRFGZUW128F92FC2AB   \n",
       "3  0007140a3796e901f3190f12e9de6d7548d4ac4a       1  TRHTCXG12903CC2F60   \n",
       "4  0007140a3796e901f3190f12e9de6d7548d4ac4a       1  TRKFBTS128EF34E530   \n",
       "\n",
       "      user     item  \n",
       "0  1019318   3011.0  \n",
       "1  1019318  92073.0  \n",
       "2  1019318   8868.0  \n",
       "3  1019318   1746.0  \n",
       "4  1019318  29411.0  "
      ]
     },
     "execution_count": 6,
     "metadata": {},
     "output_type": "execute_result"
    }
   ],
   "source": [
    "val = pq.read_table('/scratch/work/courses/DSGA1004-2021/MSD/cf_validation.parquet').to_pandas()\n",
    "\n",
    "# usr_idx_dict = {}\n",
    "# for idx, usr in enumerate(val.user_id.unique()):\n",
    "#     usr_idx_dict[usr] = idx\n",
    "\n",
    "val['user'] = val.user_id.map(usr_idx_dict)\n",
    "\n",
    "# track_idx_dict = {}\n",
    "# for idx, track in enumerate(val.track_id.unique()):\n",
    "#     track_idx_dict[track] = idx\n",
    "\n",
    "val['item'] = val.track_id.map(track_idx_dict)\n",
    "\n",
    "val = val.rename({'count':'rating'}, axis = 1)\n",
    "\n",
    "val.head()"
   ]
  },
  {
   "cell_type": "code",
   "execution_count": 7,
   "metadata": {},
   "outputs": [
    {
     "data": {
      "text/html": [
       "<div>\n",
       "<style scoped>\n",
       "    .dataframe tbody tr th:only-of-type {\n",
       "        vertical-align: middle;\n",
       "    }\n",
       "\n",
       "    .dataframe tbody tr th {\n",
       "        vertical-align: top;\n",
       "    }\n",
       "\n",
       "    .dataframe thead th {\n",
       "        text-align: right;\n",
       "    }\n",
       "</style>\n",
       "<table border=\"1\" class=\"dataframe\">\n",
       "  <thead>\n",
       "    <tr style=\"text-align: right;\">\n",
       "      <th></th>\n",
       "      <th>user_id</th>\n",
       "      <th>rating</th>\n",
       "      <th>track_id</th>\n",
       "      <th>user</th>\n",
       "      <th>item</th>\n",
       "    </tr>\n",
       "  </thead>\n",
       "  <tbody>\n",
       "    <tr>\n",
       "      <th>0</th>\n",
       "      <td>00007a02388c208ea7176479f6ae06f8224355b3</td>\n",
       "      <td>1</td>\n",
       "      <td>TRXYDST128F92EC024</td>\n",
       "      <td>1029318</td>\n",
       "      <td>54969.0</td>\n",
       "    </tr>\n",
       "    <tr>\n",
       "      <th>1</th>\n",
       "      <td>00007a02388c208ea7176479f6ae06f8224355b3</td>\n",
       "      <td>2</td>\n",
       "      <td>TRJREQL128F92EF09A</td>\n",
       "      <td>1029318</td>\n",
       "      <td>2086.0</td>\n",
       "    </tr>\n",
       "    <tr>\n",
       "      <th>2</th>\n",
       "      <td>00007a02388c208ea7176479f6ae06f8224355b3</td>\n",
       "      <td>3</td>\n",
       "      <td>TRFXKPH128E0793B8E</td>\n",
       "      <td>1029318</td>\n",
       "      <td>3020.0</td>\n",
       "    </tr>\n",
       "    <tr>\n",
       "      <th>3</th>\n",
       "      <td>00007a02388c208ea7176479f6ae06f8224355b3</td>\n",
       "      <td>1</td>\n",
       "      <td>TRMSLFG128F93172F0</td>\n",
       "      <td>1029318</td>\n",
       "      <td>13582.0</td>\n",
       "    </tr>\n",
       "    <tr>\n",
       "      <th>4</th>\n",
       "      <td>00007a02388c208ea7176479f6ae06f8224355b3</td>\n",
       "      <td>1</td>\n",
       "      <td>TRYNPHN128F92EF091</td>\n",
       "      <td>1029318</td>\n",
       "      <td>2130.0</td>\n",
       "    </tr>\n",
       "  </tbody>\n",
       "</table>\n",
       "</div>"
      ],
      "text/plain": [
       "                                    user_id  rating            track_id  \\\n",
       "0  00007a02388c208ea7176479f6ae06f8224355b3       1  TRXYDST128F92EC024   \n",
       "1  00007a02388c208ea7176479f6ae06f8224355b3       2  TRJREQL128F92EF09A   \n",
       "2  00007a02388c208ea7176479f6ae06f8224355b3       3  TRFXKPH128E0793B8E   \n",
       "3  00007a02388c208ea7176479f6ae06f8224355b3       1  TRMSLFG128F93172F0   \n",
       "4  00007a02388c208ea7176479f6ae06f8224355b3       1  TRYNPHN128F92EF091   \n",
       "\n",
       "      user     item  \n",
       "0  1029318  54969.0  \n",
       "1  1029318   2086.0  \n",
       "2  1029318   3020.0  \n",
       "3  1029318  13582.0  \n",
       "4  1029318   2130.0  "
      ]
     },
     "execution_count": 7,
     "metadata": {},
     "output_type": "execute_result"
    }
   ],
   "source": [
    "test = pq.read_table('/scratch/work/courses/DSGA1004-2021/MSD/cf_test.parquet').to_pandas()\n",
    "\n",
    "\n",
    "test['user'] = test.user_id.map(usr_idx_dict)\n",
    "\n",
    "test['item'] = test.track_id.map(track_idx_dict)\n",
    "\n",
    "test = test.rename({'count':'rating'}, axis = 1)\n",
    "test.head()"
   ]
  },
  {
   "cell_type": "code",
   "execution_count": 10,
   "metadata": {},
   "outputs": [],
   "source": [
    "truth = test[['user', 'item', 'rating']].dropna()\n",
    "\n",
    "sub_ids = truth.user.unique()"
   ]
  },
  {
   "cell_type": "markdown",
   "metadata": {},
   "source": [
    "### Load functions"
   ]
  },
  {
   "cell_type": "code",
   "execution_count": 12,
   "metadata": {},
   "outputs": [],
   "source": [
    "def pk(k, rec_df, truth_df):\n",
    "    '''\n",
    "    compute precision at k\n",
    "    '''\n",
    "    ct_usr = 0\n",
    "    for usr in tqdm(truth_df.user.values):\n",
    "        ct_rec = 0\n",
    "        rec_all = rec_df[rec_df['user'] == usr].item.values[0][:k]\n",
    "        val_all = truth_df[truth_df['user'] == usr].item.values[0]\n",
    "        ttl = [rec_item in val_all for rec_item in rec_all]\n",
    "        ct_rec = sum(ttl)\n",
    "        ct_usr += ct_rec / k\n",
    "    return ct_usr / len(truth_df.user.values)"
   ]
  },
  {
   "cell_type": "code",
   "execution_count": 13,
   "metadata": {},
   "outputs": [],
   "source": [
    "def meanAP(rec_df, truth_df):\n",
    "    ct_usr = 0\n",
    "    for usr in tqdm(truth_df.user.values):\n",
    "        ct_rec = 0\n",
    "        rec_all = rec_df[rec_df['user'] == usr].item.values[0]\n",
    "        val_all = truth_df[truth_df['user'] == usr].item.values[0]\n",
    "        ttl = [rec_item in val_all for rec_item in rec_all]\n",
    "        ttl = [v/(j+1) for j,v in enumerate(ttl)]\n",
    "        ct_rec += sum(ttl)\n",
    "        ct_usr += ct_rec / len(val_all)\n",
    "        \n",
    "    return ct_usr / len(truth_df.user.values)"
   ]
  },
  {
   "cell_type": "code",
   "execution_count": 14,
   "metadata": {},
   "outputs": [],
   "source": [
    "def ndcg(k, rec_df, truth_df):\n",
    "    ct_usr = 0\n",
    "    for usr in tqdm(truth_df.user.values):\n",
    "        rec_all = rec_df[rec_df['user'] == usr].item.values[0]\n",
    "        val_all = truth_df[truth_df['user'] == usr].item.values[0]\n",
    "        n = min(max(len(rec_all), len(val_all)), k)\n",
    "        idcg_n = min(len(val_all), k)\n",
    "        idcg = sum([1/(np.log(j+2)) for j in range(idcg_n)])\n",
    "        ttl = [rec_item in val_all for rec_item in rec_all[:n]]\n",
    "        ttl = sum([v/np.log(j+2) for j, v in enumerate(ttl)])\n",
    "        ttl *= 1/idcg\n",
    "        ct_usr += ttl\n",
    "    return ct_usr / len(truth_df.user.values)"
   ]
  },
  {
   "cell_type": "markdown",
   "metadata": {},
   "source": [
    "## Model"
   ]
  },
  {
   "cell_type": "code",
   "execution_count": 18,
   "metadata": {},
   "outputs": [
    {
     "data": {
      "text/plain": [
       "<lenskit.algorithms.basic.TopN at 0x14692728d520>"
      ]
     },
     "execution_count": 18,
     "metadata": {},
     "output_type": "execute_result"
    }
   ],
   "source": [
    "algo_bias = bias.Bias(items = True, users = True, damping = (1000000, 10000000)) #tunable: damping\n",
    "\n",
    "#fittable_bias = util.clone(algo_bias)\n",
    "fittable_bias = algo_bias\n",
    "fittable_bias = Recommender.adapt(fittable_bias)\n",
    "\n",
    "fittable_bias.fit(train, n_jobs = -1)"
   ]
  },
  {
   "cell_type": "code",
   "execution_count": 19,
   "metadata": {},
   "outputs": [
    {
     "data": {
      "text/html": [
       "<div>\n",
       "<style scoped>\n",
       "    .dataframe tbody tr th:only-of-type {\n",
       "        vertical-align: middle;\n",
       "    }\n",
       "\n",
       "    .dataframe tbody tr th {\n",
       "        vertical-align: top;\n",
       "    }\n",
       "\n",
       "    .dataframe thead th {\n",
       "        text-align: right;\n",
       "    }\n",
       "</style>\n",
       "<table border=\"1\" class=\"dataframe\">\n",
       "  <thead>\n",
       "    <tr style=\"text-align: right;\">\n",
       "      <th></th>\n",
       "      <th>item</th>\n",
       "      <th>score</th>\n",
       "      <th>user</th>\n",
       "      <th>rank</th>\n",
       "    </tr>\n",
       "  </thead>\n",
       "  <tbody>\n",
       "    <tr>\n",
       "      <th>0</th>\n",
       "      <td>202</td>\n",
       "      <td>2.926611</td>\n",
       "      <td>1029318</td>\n",
       "      <td>1</td>\n",
       "    </tr>\n",
       "    <tr>\n",
       "      <th>1</th>\n",
       "      <td>199</td>\n",
       "      <td>2.916619</td>\n",
       "      <td>1029318</td>\n",
       "      <td>2</td>\n",
       "    </tr>\n",
       "    <tr>\n",
       "      <th>2</th>\n",
       "      <td>218</td>\n",
       "      <td>2.906885</td>\n",
       "      <td>1029318</td>\n",
       "      <td>3</td>\n",
       "    </tr>\n",
       "    <tr>\n",
       "      <th>3</th>\n",
       "      <td>206</td>\n",
       "      <td>2.895803</td>\n",
       "      <td>1029318</td>\n",
       "      <td>4</td>\n",
       "    </tr>\n",
       "    <tr>\n",
       "      <th>4</th>\n",
       "      <td>5017</td>\n",
       "      <td>2.892731</td>\n",
       "      <td>1029318</td>\n",
       "      <td>5</td>\n",
       "    </tr>\n",
       "  </tbody>\n",
       "</table>\n",
       "</div>"
      ],
      "text/plain": [
       "   item     score     user  rank\n",
       "0   202  2.926611  1029318     1\n",
       "1   199  2.916619  1029318     2\n",
       "2   218  2.906885  1029318     3\n",
       "3   206  2.895803  1029318     4\n",
       "4  5017  2.892731  1029318     5"
      ]
     },
     "execution_count": 19,
     "metadata": {},
     "output_type": "execute_result"
    }
   ],
   "source": [
    "recs_bias = batch.recommend(fittable_bias, sub_ids, 500, n_jobs = 4)\n",
    "recs_bias['user'] = recs_bias['user'].map(int)\n",
    "recs_bias.head()"
   ]
  },
  {
   "cell_type": "code",
   "execution_count": 20,
   "metadata": {},
   "outputs": [],
   "source": [
    "recs_bias_listed = pd.DataFrame({'item':recs_bias.groupby('user').item.apply(list)}).reset_index()"
   ]
  },
  {
   "cell_type": "code",
   "execution_count": 21,
   "metadata": {},
   "outputs": [],
   "source": [
    "recs_bias_listed.to_pickle('recs_bias_final.pkl')"
   ]
  },
  {
   "cell_type": "code",
   "execution_count": 22,
   "metadata": {},
   "outputs": [
    {
     "data": {
      "text/html": [
       "<div>\n",
       "<style scoped>\n",
       "    .dataframe tbody tr th:only-of-type {\n",
       "        vertical-align: middle;\n",
       "    }\n",
       "\n",
       "    .dataframe tbody tr th {\n",
       "        vertical-align: top;\n",
       "    }\n",
       "\n",
       "    .dataframe thead th {\n",
       "        text-align: right;\n",
       "    }\n",
       "</style>\n",
       "<table border=\"1\" class=\"dataframe\">\n",
       "  <thead>\n",
       "    <tr style=\"text-align: right;\">\n",
       "      <th></th>\n",
       "      <th>user</th>\n",
       "      <th>item</th>\n",
       "    </tr>\n",
       "  </thead>\n",
       "  <tbody>\n",
       "    <tr>\n",
       "      <th>0</th>\n",
       "      <td>1029318</td>\n",
       "      <td>[54969.0, 2086.0, 3020.0, 13582.0, 2130.0, 474...</td>\n",
       "    </tr>\n",
       "    <tr>\n",
       "      <th>1</th>\n",
       "      <td>1029319</td>\n",
       "      <td>[116519.0, 8584.0, 72204.0, 183817.0, 132142.0...</td>\n",
       "    </tr>\n",
       "    <tr>\n",
       "      <th>2</th>\n",
       "      <td>1029320</td>\n",
       "      <td>[16568.0, 3756.0, 1130.0, 11.0, 22.0, 200.0, 3...</td>\n",
       "    </tr>\n",
       "    <tr>\n",
       "      <th>3</th>\n",
       "      <td>1029321</td>\n",
       "      <td>[5673.0, 329872.0, 286165.0, 30764.0, 809.0, 7...</td>\n",
       "    </tr>\n",
       "    <tr>\n",
       "      <th>4</th>\n",
       "      <td>1029322</td>\n",
       "      <td>[12628.0, 25977.0, 7882.0, 67393.0, 7979.0, 20...</td>\n",
       "    </tr>\n",
       "  </tbody>\n",
       "</table>\n",
       "</div>"
      ],
      "text/plain": [
       "      user                                               item\n",
       "0  1029318  [54969.0, 2086.0, 3020.0, 13582.0, 2130.0, 474...\n",
       "1  1029319  [116519.0, 8584.0, 72204.0, 183817.0, 132142.0...\n",
       "2  1029320  [16568.0, 3756.0, 1130.0, 11.0, 22.0, 200.0, 3...\n",
       "3  1029321  [5673.0, 329872.0, 286165.0, 30764.0, 809.0, 7...\n",
       "4  1029322  [12628.0, 25977.0, 7882.0, 67393.0, 7979.0, 20..."
      ]
     },
     "execution_count": 22,
     "metadata": {},
     "output_type": "execute_result"
    }
   ],
   "source": [
    "truth_listed = pd.DataFrame({'item':truth.groupby('user').item.apply(list)}).reset_index()\n",
    "\n",
    "truth_listed.head()"
   ]
  },
  {
   "cell_type": "code",
   "execution_count": 27,
   "metadata": {},
   "outputs": [
    {
     "name": "stderr",
     "output_type": "stream",
     "text": [
      "100%|██████████| 100000/100000 [02:16<00:00, 735.10it/s]\n"
     ]
    },
    {
     "data": {
      "text/plain": [
       "0.003123780000000688"
      ]
     },
     "execution_count": 27,
     "metadata": {},
     "output_type": "execute_result"
    }
   ],
   "source": [
    "pk(500, recs_bias_listed, truth_listed)"
   ]
  },
  {
   "cell_type": "code",
   "execution_count": 28,
   "metadata": {},
   "outputs": [
    {
     "name": "stderr",
     "output_type": "stream",
     "text": [
      "100%|██████████| 100000/100000 [02:22<00:00, 703.96it/s]\n"
     ]
    },
    {
     "data": {
      "text/plain": [
       "0.011919438084520916"
      ]
     },
     "execution_count": 28,
     "metadata": {},
     "output_type": "execute_result"
    }
   ],
   "source": [
    "meanAP(recs_bias_listed, truth_listed)"
   ]
  },
  {
   "cell_type": "code",
   "execution_count": 29,
   "metadata": {},
   "outputs": [
    {
     "name": "stderr",
     "output_type": "stream",
     "text": [
      "100%|██████████| 100000/100000 [05:31<00:00, 301.61it/s]\n"
     ]
    },
    {
     "data": {
      "text/plain": [
       "0.06723044157342824"
      ]
     },
     "execution_count": 29,
     "metadata": {},
     "output_type": "execute_result"
    }
   ],
   "source": [
    "ndcg(500,recs_bias_listed, truth_listed)"
   ]
  }
 ],
 "metadata": {
  "kernelspec": {
   "display_name": "Python 3",
   "language": "python",
   "name": "python3"
  },
  "language_info": {
   "codemirror_mode": {
    "name": "ipython",
    "version": 3
   },
   "file_extension": ".py",
   "mimetype": "text/x-python",
   "name": "python",
   "nbconvert_exporter": "python",
   "pygments_lexer": "ipython3",
   "version": "3.8.6"
  }
 },
 "nbformat": 4,
 "nbformat_minor": 4
}
