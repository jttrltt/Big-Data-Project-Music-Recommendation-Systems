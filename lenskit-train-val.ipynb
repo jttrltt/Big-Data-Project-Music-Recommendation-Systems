{
 "cells": [
  {
   "cell_type": "markdown",
   "metadata": {},
   "source": [
    "# Import Packages"
   ]
  },
  {
   "cell_type": "code",
   "execution_count": 1,
   "metadata": {},
   "outputs": [],
   "source": [
    "from tqdm import tqdm\n",
    "from lenskit import batch, topn, util\n",
    "from lenskit import crossfold as xf\n",
    "from lenskit.algorithms import Recommender, als, bias, item_knn as knn\n",
    "from lenskit.metrics import topn\n",
    "from lenskit.metrics.predict import rmse, mae\n",
    "import pickle\n",
    "import pandas as pd\n",
    "%matplotlib inline\n",
    "\n",
    "import pyarrow.parquet as pq\n",
    "\n",
    "import numpy as np"
   ]
  },
  {
   "cell_type": "markdown",
   "metadata": {},
   "source": [
    "# Data Processing"
   ]
  },
  {
   "cell_type": "code",
   "execution_count": 2,
   "metadata": {},
   "outputs": [
    {
     "data": {
      "text/html": [
       "<div>\n",
       "<style scoped>\n",
       "    .dataframe tbody tr th:only-of-type {\n",
       "        vertical-align: middle;\n",
       "    }\n",
       "\n",
       "    .dataframe tbody tr th {\n",
       "        vertical-align: top;\n",
       "    }\n",
       "\n",
       "    .dataframe thead th {\n",
       "        text-align: right;\n",
       "    }\n",
       "</style>\n",
       "<table border=\"1\" class=\"dataframe\">\n",
       "  <thead>\n",
       "    <tr style=\"text-align: right;\">\n",
       "      <th></th>\n",
       "      <th>user_id</th>\n",
       "      <th>rating</th>\n",
       "      <th>track_id</th>\n",
       "      <th>user</th>\n",
       "      <th>item</th>\n",
       "    </tr>\n",
       "  </thead>\n",
       "  <tbody>\n",
       "    <tr>\n",
       "      <th>0</th>\n",
       "      <td>b80344d063b5ccb3212f76538f3d9e43d87dca9e</td>\n",
       "      <td>1</td>\n",
       "      <td>TRIQAUQ128F42435AD</td>\n",
       "      <td>0</td>\n",
       "      <td>0</td>\n",
       "    </tr>\n",
       "    <tr>\n",
       "      <th>1</th>\n",
       "      <td>b80344d063b5ccb3212f76538f3d9e43d87dca9e</td>\n",
       "      <td>1</td>\n",
       "      <td>TRIRLYL128F42539D1</td>\n",
       "      <td>0</td>\n",
       "      <td>1</td>\n",
       "    </tr>\n",
       "    <tr>\n",
       "      <th>2</th>\n",
       "      <td>b80344d063b5ccb3212f76538f3d9e43d87dca9e</td>\n",
       "      <td>2</td>\n",
       "      <td>TRMHBXZ128F4238406</td>\n",
       "      <td>0</td>\n",
       "      <td>2</td>\n",
       "    </tr>\n",
       "    <tr>\n",
       "      <th>3</th>\n",
       "      <td>b80344d063b5ccb3212f76538f3d9e43d87dca9e</td>\n",
       "      <td>1</td>\n",
       "      <td>TRYQMNI128F147C1C7</td>\n",
       "      <td>0</td>\n",
       "      <td>3</td>\n",
       "    </tr>\n",
       "    <tr>\n",
       "      <th>4</th>\n",
       "      <td>b80344d063b5ccb3212f76538f3d9e43d87dca9e</td>\n",
       "      <td>1</td>\n",
       "      <td>TRAHZNE128F9341B86</td>\n",
       "      <td>0</td>\n",
       "      <td>4</td>\n",
       "    </tr>\n",
       "  </tbody>\n",
       "</table>\n",
       "</div>"
      ],
      "text/plain": [
       "                                    user_id  rating            track_id  user  \\\n",
       "0  b80344d063b5ccb3212f76538f3d9e43d87dca9e       1  TRIQAUQ128F42435AD     0   \n",
       "1  b80344d063b5ccb3212f76538f3d9e43d87dca9e       1  TRIRLYL128F42539D1     0   \n",
       "2  b80344d063b5ccb3212f76538f3d9e43d87dca9e       2  TRMHBXZ128F4238406     0   \n",
       "3  b80344d063b5ccb3212f76538f3d9e43d87dca9e       1  TRYQMNI128F147C1C7     0   \n",
       "4  b80344d063b5ccb3212f76538f3d9e43d87dca9e       1  TRAHZNE128F9341B86     0   \n",
       "\n",
       "   item  \n",
       "0     0  \n",
       "1     1  \n",
       "2     2  \n",
       "3     3  \n",
       "4     4  "
      ]
     },
     "execution_count": 2,
     "metadata": {},
     "output_type": "execute_result"
    }
   ],
   "source": [
    "train = pq.read_table('cf_train_new.pq').to_pandas()\n",
    "\n",
    "usr_idx_dict = {}\n",
    "for idx, usr in enumerate(train.user_id.unique()):\n",
    "    usr_idx_dict[usr] = idx\n",
    "\n",
    "train['user'] = train.user_id.map(usr_idx_dict)\n",
    "\n",
    "track_idx_dict = {}\n",
    "for idx, track in enumerate(train.track_id.unique()):\n",
    "    track_idx_dict[track] = idx\n",
    "\n",
    "train['item'] = train.track_id.map(track_idx_dict)\n",
    "\n",
    "train = train.rename({'count':'rating'}, axis = 1)\n",
    "\n",
    "train.head()"
   ]
  },
  {
   "cell_type": "code",
   "execution_count": 3,
   "metadata": {},
   "outputs": [
    {
     "data": {
      "text/html": [
       "<div>\n",
       "<style scoped>\n",
       "    .dataframe tbody tr th:only-of-type {\n",
       "        vertical-align: middle;\n",
       "    }\n",
       "\n",
       "    .dataframe tbody tr th {\n",
       "        vertical-align: top;\n",
       "    }\n",
       "\n",
       "    .dataframe thead th {\n",
       "        text-align: right;\n",
       "    }\n",
       "</style>\n",
       "<table border=\"1\" class=\"dataframe\">\n",
       "  <thead>\n",
       "    <tr style=\"text-align: right;\">\n",
       "      <th></th>\n",
       "      <th>user_id</th>\n",
       "      <th>rating</th>\n",
       "      <th>track_id</th>\n",
       "      <th>user</th>\n",
       "      <th>item</th>\n",
       "    </tr>\n",
       "  </thead>\n",
       "  <tbody>\n",
       "    <tr>\n",
       "      <th>0</th>\n",
       "      <td>0007140a3796e901f3190f12e9de6d7548d4ac4a</td>\n",
       "      <td>1</td>\n",
       "      <td>TRUFCYO128F422B898</td>\n",
       "      <td>1019318</td>\n",
       "      <td>3011.0</td>\n",
       "    </tr>\n",
       "    <tr>\n",
       "      <th>1</th>\n",
       "      <td>0007140a3796e901f3190f12e9de6d7548d4ac4a</td>\n",
       "      <td>2</td>\n",
       "      <td>TROBZPR128F14808FF</td>\n",
       "      <td>1019318</td>\n",
       "      <td>92073.0</td>\n",
       "    </tr>\n",
       "    <tr>\n",
       "      <th>2</th>\n",
       "      <td>0007140a3796e901f3190f12e9de6d7548d4ac4a</td>\n",
       "      <td>1</td>\n",
       "      <td>TRFGZUW128F92FC2AB</td>\n",
       "      <td>1019318</td>\n",
       "      <td>8868.0</td>\n",
       "    </tr>\n",
       "    <tr>\n",
       "      <th>3</th>\n",
       "      <td>0007140a3796e901f3190f12e9de6d7548d4ac4a</td>\n",
       "      <td>1</td>\n",
       "      <td>TRHTCXG12903CC2F60</td>\n",
       "      <td>1019318</td>\n",
       "      <td>1746.0</td>\n",
       "    </tr>\n",
       "    <tr>\n",
       "      <th>4</th>\n",
       "      <td>0007140a3796e901f3190f12e9de6d7548d4ac4a</td>\n",
       "      <td>1</td>\n",
       "      <td>TRKFBTS128EF34E530</td>\n",
       "      <td>1019318</td>\n",
       "      <td>29411.0</td>\n",
       "    </tr>\n",
       "  </tbody>\n",
       "</table>\n",
       "</div>"
      ],
      "text/plain": [
       "                                    user_id  rating            track_id  \\\n",
       "0  0007140a3796e901f3190f12e9de6d7548d4ac4a       1  TRUFCYO128F422B898   \n",
       "1  0007140a3796e901f3190f12e9de6d7548d4ac4a       2  TROBZPR128F14808FF   \n",
       "2  0007140a3796e901f3190f12e9de6d7548d4ac4a       1  TRFGZUW128F92FC2AB   \n",
       "3  0007140a3796e901f3190f12e9de6d7548d4ac4a       1  TRHTCXG12903CC2F60   \n",
       "4  0007140a3796e901f3190f12e9de6d7548d4ac4a       1  TRKFBTS128EF34E530   \n",
       "\n",
       "      user     item  \n",
       "0  1019318   3011.0  \n",
       "1  1019318  92073.0  \n",
       "2  1019318   8868.0  \n",
       "3  1019318   1746.0  \n",
       "4  1019318  29411.0  "
      ]
     },
     "execution_count": 3,
     "metadata": {},
     "output_type": "execute_result"
    }
   ],
   "source": [
    "val = pq.read_table('cf_val.pq').to_pandas()\n",
    "\n",
    "# usr_idx_dict = {}\n",
    "# for idx, usr in enumerate(val.user_id.unique()):\n",
    "#     usr_idx_dict[usr] = idx\n",
    "\n",
    "val['user'] = val.user_id.map(usr_idx_dict)\n",
    "\n",
    "# track_idx_dict = {}\n",
    "# for idx, track in enumerate(val.track_id.unique()):\n",
    "#     track_idx_dict[track] = idx\n",
    "\n",
    "val['item'] = val.track_id.map(track_idx_dict)\n",
    "\n",
    "val = val.rename({'count':'rating'}, axis = 1)\n",
    "\n",
    "val.head()"
   ]
  },
  {
   "cell_type": "code",
   "execution_count": 4,
   "metadata": {},
   "outputs": [],
   "source": [
    "truth = val[['user', 'item', 'rating']].dropna()\n",
    "\n",
    "sub_ids = truth.user.unique()"
   ]
  },
  {
   "cell_type": "markdown",
   "metadata": {},
   "source": [
    "# ALS model - single machine"
   ]
  },
  {
   "cell_type": "code",
   "execution_count": null,
   "metadata": {},
   "outputs": [],
   "source": [
    "#final eval 200 20 0.1 1"
   ]
  },
  {
   "cell_type": "code",
   "execution_count": 5,
   "metadata": {},
   "outputs": [
    {
     "data": {
      "text/plain": [
       "<lenskit.algorithms.basic.TopN at 0x145f17cc4730>"
      ]
     },
     "execution_count": 5,
     "metadata": {},
     "output_type": "execute_result"
    }
   ],
   "source": [
    "algo_als = als.ImplicitMF(200, iterations = 20, reg = 0.1, weight = 1, method = 'lu') #try no regularization and 0.001\n",
    "#tunable: features, iterations, reg, weight\n",
    "\n",
    "fittable = util.clone(algo_als)\n",
    "\n",
    "fittable = Recommender.adapt(fittable)\n",
    "\n",
    "fittable.fit(train, n_jobs = -1)"
   ]
  },
  {
   "cell_type": "code",
   "execution_count": 18,
   "metadata": {},
   "outputs": [],
   "source": [
    "with open('model_val_200.pkl', 'wb') as f:\n",
    "    pickle.dump(fittable, f, protocol = pickle.HIGHEST_PROTOCOL)"
   ]
  },
  {
   "cell_type": "code",
   "execution_count": 19,
   "metadata": {},
   "outputs": [],
   "source": [
    "with open('model_val_200.pkl', 'rb') as f:\n",
    "    ff2 = pickle.load(f)"
   ]
  },
  {
   "cell_type": "code",
   "execution_count": null,
   "metadata": {},
   "outputs": [],
   "source": [
    "rr2 = batch.recommend(ff2, sub_ids[:2], 500, njobs = 4)"
   ]
  },
  {
   "cell_type": "code",
   "execution_count": 28,
   "metadata": {},
   "outputs": [
    {
     "data": {
      "text/html": [
       "<div>\n",
       "<style scoped>\n",
       "    .dataframe tbody tr th:only-of-type {\n",
       "        vertical-align: middle;\n",
       "    }\n",
       "\n",
       "    .dataframe tbody tr th {\n",
       "        vertical-align: top;\n",
       "    }\n",
       "\n",
       "    .dataframe thead th {\n",
       "        text-align: right;\n",
       "    }\n",
       "</style>\n",
       "<table border=\"1\" class=\"dataframe\">\n",
       "  <thead>\n",
       "    <tr style=\"text-align: right;\">\n",
       "      <th></th>\n",
       "      <th>item</th>\n",
       "      <th>score</th>\n",
       "      <th>user</th>\n",
       "      <th>rank</th>\n",
       "    </tr>\n",
       "  </thead>\n",
       "  <tbody>\n",
       "    <tr>\n",
       "      <th>0</th>\n",
       "      <td>2551</td>\n",
       "      <td>0.126198</td>\n",
       "      <td>1019318</td>\n",
       "      <td>1</td>\n",
       "    </tr>\n",
       "    <tr>\n",
       "      <th>1</th>\n",
       "      <td>1685</td>\n",
       "      <td>0.149134</td>\n",
       "      <td>1019319</td>\n",
       "      <td>1</td>\n",
       "    </tr>\n",
       "  </tbody>\n",
       "</table>\n",
       "</div>"
      ],
      "text/plain": [
       "   item     score     user  rank\n",
       "0  2551  0.126198  1019318     1\n",
       "1  1685  0.149134  1019319     1"
      ]
     },
     "execution_count": 28,
     "metadata": {},
     "output_type": "execute_result"
    }
   ],
   "source": [
    "rr2"
   ]
  },
  {
   "cell_type": "code",
   "execution_count": 6,
   "metadata": {},
   "outputs": [
    {
     "data": {
      "text/html": [
       "<div>\n",
       "<style scoped>\n",
       "    .dataframe tbody tr th:only-of-type {\n",
       "        vertical-align: middle;\n",
       "    }\n",
       "\n",
       "    .dataframe tbody tr th {\n",
       "        vertical-align: top;\n",
       "    }\n",
       "\n",
       "    .dataframe thead th {\n",
       "        text-align: right;\n",
       "    }\n",
       "</style>\n",
       "<table border=\"1\" class=\"dataframe\">\n",
       "  <thead>\n",
       "    <tr style=\"text-align: right;\">\n",
       "      <th></th>\n",
       "      <th>item</th>\n",
       "      <th>score</th>\n",
       "      <th>user</th>\n",
       "      <th>rank</th>\n",
       "    </tr>\n",
       "  </thead>\n",
       "  <tbody>\n",
       "    <tr>\n",
       "      <th>0</th>\n",
       "      <td>2551</td>\n",
       "      <td>0.126198</td>\n",
       "      <td>1019318</td>\n",
       "      <td>1</td>\n",
       "    </tr>\n",
       "    <tr>\n",
       "      <th>1</th>\n",
       "      <td>17565</td>\n",
       "      <td>0.118739</td>\n",
       "      <td>1019318</td>\n",
       "      <td>2</td>\n",
       "    </tr>\n",
       "    <tr>\n",
       "      <th>2</th>\n",
       "      <td>4960</td>\n",
       "      <td>0.113786</td>\n",
       "      <td>1019318</td>\n",
       "      <td>3</td>\n",
       "    </tr>\n",
       "    <tr>\n",
       "      <th>3</th>\n",
       "      <td>9583</td>\n",
       "      <td>0.109301</td>\n",
       "      <td>1019318</td>\n",
       "      <td>4</td>\n",
       "    </tr>\n",
       "    <tr>\n",
       "      <th>4</th>\n",
       "      <td>11072</td>\n",
       "      <td>0.103730</td>\n",
       "      <td>1019318</td>\n",
       "      <td>5</td>\n",
       "    </tr>\n",
       "  </tbody>\n",
       "</table>\n",
       "</div>"
      ],
      "text/plain": [
       "    item     score     user  rank\n",
       "0   2551  0.126198  1019318     1\n",
       "1  17565  0.118739  1019318     2\n",
       "2   4960  0.113786  1019318     3\n",
       "3   9583  0.109301  1019318     4\n",
       "4  11072  0.103730  1019318     5"
      ]
     },
     "execution_count": 6,
     "metadata": {},
     "output_type": "execute_result"
    }
   ],
   "source": [
    "recs = batch.recommend(fittable, sub_ids, 500, n_jobs = 4)\n",
    "recs['user'] = recs['user'].map(int)\n",
    "recs.head()"
   ]
  },
  {
   "cell_type": "code",
   "execution_count": 7,
   "metadata": {},
   "outputs": [
    {
     "data": {
      "text/html": [
       "<div>\n",
       "<style scoped>\n",
       "    .dataframe tbody tr th:only-of-type {\n",
       "        vertical-align: middle;\n",
       "    }\n",
       "\n",
       "    .dataframe tbody tr th {\n",
       "        vertical-align: top;\n",
       "    }\n",
       "\n",
       "    .dataframe thead th {\n",
       "        text-align: right;\n",
       "    }\n",
       "</style>\n",
       "<table border=\"1\" class=\"dataframe\">\n",
       "  <thead>\n",
       "    <tr style=\"text-align: right;\">\n",
       "      <th></th>\n",
       "      <th>user</th>\n",
       "      <th>item</th>\n",
       "      <th>rating</th>\n",
       "    </tr>\n",
       "  </thead>\n",
       "  <tbody>\n",
       "    <tr>\n",
       "      <th>0</th>\n",
       "      <td>1019318</td>\n",
       "      <td>3011</td>\n",
       "      <td>1</td>\n",
       "    </tr>\n",
       "    <tr>\n",
       "      <th>1</th>\n",
       "      <td>1019318</td>\n",
       "      <td>92073</td>\n",
       "      <td>2</td>\n",
       "    </tr>\n",
       "    <tr>\n",
       "      <th>2</th>\n",
       "      <td>1019318</td>\n",
       "      <td>8868</td>\n",
       "      <td>1</td>\n",
       "    </tr>\n",
       "    <tr>\n",
       "      <th>3</th>\n",
       "      <td>1019318</td>\n",
       "      <td>1746</td>\n",
       "      <td>1</td>\n",
       "    </tr>\n",
       "    <tr>\n",
       "      <th>4</th>\n",
       "      <td>1019318</td>\n",
       "      <td>29411</td>\n",
       "      <td>1</td>\n",
       "    </tr>\n",
       "  </tbody>\n",
       "</table>\n",
       "</div>"
      ],
      "text/plain": [
       "      user   item  rating\n",
       "0  1019318   3011       1\n",
       "1  1019318  92073       2\n",
       "2  1019318   8868       1\n",
       "3  1019318   1746       1\n",
       "4  1019318  29411       1"
      ]
     },
     "execution_count": 7,
     "metadata": {},
     "output_type": "execute_result"
    }
   ],
   "source": [
    "truth['user'] = truth['user'].map(int)\n",
    "truth['item'] = truth['item'].map(int)\n",
    "truth.head()"
   ]
  },
  {
   "cell_type": "code",
   "execution_count": 8,
   "metadata": {},
   "outputs": [
    {
     "data": {
      "text/html": [
       "<div>\n",
       "<style scoped>\n",
       "    .dataframe tbody tr th:only-of-type {\n",
       "        vertical-align: middle;\n",
       "    }\n",
       "\n",
       "    .dataframe tbody tr th {\n",
       "        vertical-align: top;\n",
       "    }\n",
       "\n",
       "    .dataframe thead th {\n",
       "        text-align: right;\n",
       "    }\n",
       "</style>\n",
       "<table border=\"1\" class=\"dataframe\">\n",
       "  <thead>\n",
       "    <tr style=\"text-align: right;\">\n",
       "      <th></th>\n",
       "      <th>user_id</th>\n",
       "      <th>rating</th>\n",
       "      <th>track_id</th>\n",
       "      <th>user</th>\n",
       "      <th>item</th>\n",
       "    </tr>\n",
       "  </thead>\n",
       "  <tbody>\n",
       "    <tr>\n",
       "      <th>0</th>\n",
       "      <td>0007140a3796e901f3190f12e9de6d7548d4ac4a</td>\n",
       "      <td>1</td>\n",
       "      <td>TRUFCYO128F422B898</td>\n",
       "      <td>1019318</td>\n",
       "      <td>3011.0</td>\n",
       "    </tr>\n",
       "    <tr>\n",
       "      <th>1</th>\n",
       "      <td>0007140a3796e901f3190f12e9de6d7548d4ac4a</td>\n",
       "      <td>2</td>\n",
       "      <td>TROBZPR128F14808FF</td>\n",
       "      <td>1019318</td>\n",
       "      <td>92073.0</td>\n",
       "    </tr>\n",
       "    <tr>\n",
       "      <th>2</th>\n",
       "      <td>0007140a3796e901f3190f12e9de6d7548d4ac4a</td>\n",
       "      <td>1</td>\n",
       "      <td>TRFGZUW128F92FC2AB</td>\n",
       "      <td>1019318</td>\n",
       "      <td>8868.0</td>\n",
       "    </tr>\n",
       "    <tr>\n",
       "      <th>3</th>\n",
       "      <td>0007140a3796e901f3190f12e9de6d7548d4ac4a</td>\n",
       "      <td>1</td>\n",
       "      <td>TRHTCXG12903CC2F60</td>\n",
       "      <td>1019318</td>\n",
       "      <td>1746.0</td>\n",
       "    </tr>\n",
       "    <tr>\n",
       "      <th>4</th>\n",
       "      <td>0007140a3796e901f3190f12e9de6d7548d4ac4a</td>\n",
       "      <td>1</td>\n",
       "      <td>TRKFBTS128EF34E530</td>\n",
       "      <td>1019318</td>\n",
       "      <td>29411.0</td>\n",
       "    </tr>\n",
       "  </tbody>\n",
       "</table>\n",
       "</div>"
      ],
      "text/plain": [
       "                                    user_id  rating            track_id  \\\n",
       "0  0007140a3796e901f3190f12e9de6d7548d4ac4a       1  TRUFCYO128F422B898   \n",
       "1  0007140a3796e901f3190f12e9de6d7548d4ac4a       2  TROBZPR128F14808FF   \n",
       "2  0007140a3796e901f3190f12e9de6d7548d4ac4a       1  TRFGZUW128F92FC2AB   \n",
       "3  0007140a3796e901f3190f12e9de6d7548d4ac4a       1  TRHTCXG12903CC2F60   \n",
       "4  0007140a3796e901f3190f12e9de6d7548d4ac4a       1  TRKFBTS128EF34E530   \n",
       "\n",
       "      user     item  \n",
       "0  1019318   3011.0  \n",
       "1  1019318  92073.0  \n",
       "2  1019318   8868.0  \n",
       "3  1019318   1746.0  \n",
       "4  1019318  29411.0  "
      ]
     },
     "execution_count": 8,
     "metadata": {},
     "output_type": "execute_result"
    }
   ],
   "source": [
    "val.head()"
   ]
  },
  {
   "cell_type": "code",
   "execution_count": 9,
   "metadata": {},
   "outputs": [],
   "source": [
    "recs_listed = pd.DataFrame({'item':recs.groupby('user').item.apply(list)}).reset_index()"
   ]
  },
  {
   "cell_type": "code",
   "execution_count": 10,
   "metadata": {},
   "outputs": [
    {
     "data": {
      "text/html": [
       "<div>\n",
       "<style scoped>\n",
       "    .dataframe tbody tr th:only-of-type {\n",
       "        vertical-align: middle;\n",
       "    }\n",
       "\n",
       "    .dataframe tbody tr th {\n",
       "        vertical-align: top;\n",
       "    }\n",
       "\n",
       "    .dataframe thead th {\n",
       "        text-align: right;\n",
       "    }\n",
       "</style>\n",
       "<table border=\"1\" class=\"dataframe\">\n",
       "  <thead>\n",
       "    <tr style=\"text-align: right;\">\n",
       "      <th></th>\n",
       "      <th>user</th>\n",
       "      <th>item</th>\n",
       "    </tr>\n",
       "  </thead>\n",
       "  <tbody>\n",
       "    <tr>\n",
       "      <th>0</th>\n",
       "      <td>1019318</td>\n",
       "      <td>[2551, 17565, 4960, 9583, 11072, 11092, 29423,...</td>\n",
       "    </tr>\n",
       "    <tr>\n",
       "      <th>1</th>\n",
       "      <td>1019319</td>\n",
       "      <td>[1685, 1246, 10165, 6169, 13216, 10222, 6434, ...</td>\n",
       "    </tr>\n",
       "    <tr>\n",
       "      <th>2</th>\n",
       "      <td>1019320</td>\n",
       "      <td>[366, 1276, 2594, 2494, 378, 2008, 12577, 1595...</td>\n",
       "    </tr>\n",
       "    <tr>\n",
       "      <th>3</th>\n",
       "      <td>1019321</td>\n",
       "      <td>[1780, 2707, 2709, 1706, 410, 14943, 1465, 161...</td>\n",
       "    </tr>\n",
       "    <tr>\n",
       "      <th>4</th>\n",
       "      <td>1019322</td>\n",
       "      <td>[12046, 4652, 9738, 4634, 10037, 251, 8502, 15...</td>\n",
       "    </tr>\n",
       "  </tbody>\n",
       "</table>\n",
       "</div>"
      ],
      "text/plain": [
       "      user                                               item\n",
       "0  1019318  [2551, 17565, 4960, 9583, 11072, 11092, 29423,...\n",
       "1  1019319  [1685, 1246, 10165, 6169, 13216, 10222, 6434, ...\n",
       "2  1019320  [366, 1276, 2594, 2494, 378, 2008, 12577, 1595...\n",
       "3  1019321  [1780, 2707, 2709, 1706, 410, 14943, 1465, 161...\n",
       "4  1019322  [12046, 4652, 9738, 4634, 10037, 251, 8502, 15..."
      ]
     },
     "execution_count": 10,
     "metadata": {},
     "output_type": "execute_result"
    }
   ],
   "source": [
    "recs_listed.head()"
   ]
  },
  {
   "cell_type": "code",
   "execution_count": 11,
   "metadata": {},
   "outputs": [],
   "source": [
    "truth_listed = pd.DataFrame({'item':truth.groupby('user').item.apply(list)}).reset_index()"
   ]
  },
  {
   "cell_type": "code",
   "execution_count": 12,
   "metadata": {},
   "outputs": [
    {
     "data": {
      "text/html": [
       "<div>\n",
       "<style scoped>\n",
       "    .dataframe tbody tr th:only-of-type {\n",
       "        vertical-align: middle;\n",
       "    }\n",
       "\n",
       "    .dataframe tbody tr th {\n",
       "        vertical-align: top;\n",
       "    }\n",
       "\n",
       "    .dataframe thead th {\n",
       "        text-align: right;\n",
       "    }\n",
       "</style>\n",
       "<table border=\"1\" class=\"dataframe\">\n",
       "  <thead>\n",
       "    <tr style=\"text-align: right;\">\n",
       "      <th></th>\n",
       "      <th>user</th>\n",
       "      <th>item</th>\n",
       "    </tr>\n",
       "  </thead>\n",
       "  <tbody>\n",
       "    <tr>\n",
       "      <th>0</th>\n",
       "      <td>1019318</td>\n",
       "      <td>[3011, 92073, 8868, 1746, 29411, 29423, 11667,...</td>\n",
       "    </tr>\n",
       "    <tr>\n",
       "      <th>1</th>\n",
       "      <td>1019319</td>\n",
       "      <td>[60775, 14821, 47393, 52175, 156297, 22462]</td>\n",
       "    </tr>\n",
       "    <tr>\n",
       "      <th>2</th>\n",
       "      <td>1019320</td>\n",
       "      <td>[378, 12629, 418, 7673, 16820, 9336]</td>\n",
       "    </tr>\n",
       "    <tr>\n",
       "      <th>3</th>\n",
       "      <td>1019321</td>\n",
       "      <td>[1780, 22800, 14943, 2239, 3303, 85910, 10222,...</td>\n",
       "    </tr>\n",
       "    <tr>\n",
       "      <th>4</th>\n",
       "      <td>1019322</td>\n",
       "      <td>[13185, 66586, 3057, 1158, 15007, 47018, 14870...</td>\n",
       "    </tr>\n",
       "  </tbody>\n",
       "</table>\n",
       "</div>"
      ],
      "text/plain": [
       "      user                                               item\n",
       "0  1019318  [3011, 92073, 8868, 1746, 29411, 29423, 11667,...\n",
       "1  1019319        [60775, 14821, 47393, 52175, 156297, 22462]\n",
       "2  1019320               [378, 12629, 418, 7673, 16820, 9336]\n",
       "3  1019321  [1780, 22800, 14943, 2239, 3303, 85910, 10222,...\n",
       "4  1019322  [13185, 66586, 3057, 1158, 15007, 47018, 14870..."
      ]
     },
     "execution_count": 12,
     "metadata": {},
     "output_type": "execute_result"
    }
   ],
   "source": [
    "truth_listed.head()"
   ]
  },
  {
   "cell_type": "code",
   "execution_count": 13,
   "metadata": {},
   "outputs": [
    {
     "data": {
      "text/plain": [
       "10000"
      ]
     },
     "execution_count": 13,
     "metadata": {},
     "output_type": "execute_result"
    }
   ],
   "source": [
    "len(truth_listed.user.unique())"
   ]
  },
  {
   "cell_type": "code",
   "execution_count": null,
   "metadata": {},
   "outputs": [],
   "source": [
    "# len(truth_listed[truth_listed['user'] == 1010207].item.values[0])\n",
    "\n",
    "# truth_listed.user.values[0]\n",
    "\n",
    "# [truth_listed[truth_listed['user'] == 1010207].item.values[0]]"
   ]
  },
  {
   "cell_type": "code",
   "execution_count": 14,
   "metadata": {},
   "outputs": [],
   "source": [
    "with open('recs_200_val.pkl', 'wb') as f:\n",
    "    pickle.dump(recs_listed, f, protocol = pickle.HIGHEST_PROTOCOL)"
   ]
  },
  {
   "cell_type": "code",
   "execution_count": 15,
   "metadata": {},
   "outputs": [],
   "source": [
    "def pk(k, rec_df, truth_df):\n",
    "    '''\n",
    "    compute precision at k\n",
    "    '''\n",
    "    ct_usr = 0\n",
    "    for usr in tqdm(truth_df.user.values):\n",
    "        ct_rec = 0\n",
    "        rec_all = rec_df[rec_df['user'] == usr].item.values[0][:k]\n",
    "        val_all = truth_df[truth_df['user'] == usr].item.values[0]\n",
    "        ttl = [rec_item in val_all for rec_item in rec_all]\n",
    "        ct_rec = sum(ttl)\n",
    "        ct_usr += ct_rec / k\n",
    "    return ct_usr / len(truth_df.user.values)      "
   ]
  },
  {
   "cell_type": "code",
   "execution_count": 16,
   "metadata": {},
   "outputs": [
    {
     "name": "stderr",
     "output_type": "stream",
     "text": [
      "100%|██████████| 10000/10000 [00:09<00:00, 1002.52it/s]\n"
     ]
    },
    {
     "data": {
      "text/plain": [
       "0.011219600000000194"
      ]
     },
     "execution_count": 16,
     "metadata": {},
     "output_type": "execute_result"
    }
   ],
   "source": [
    "pk(500, recs_listed, truth_listed)"
   ]
  },
  {
   "cell_type": "code",
   "execution_count": 21,
   "metadata": {},
   "outputs": [],
   "source": [
    "def meanAP(rec_df, truth_df):\n",
    "    ct_usr = 0\n",
    "    for usr in tqdm(truth_df.user.values):\n",
    "        ct_rec = 0\n",
    "        rec_all = rec_df[rec_df['user'] == usr].item.values[0]\n",
    "        val_all = truth_df[truth_df['user'] == usr].item.values[0]\n",
    "        ttl = [rec_item in val_all for rec_item in rec_all]\n",
    "        ttl = [v/(j+1) for j,v in enumerate(ttl)]\n",
    "        ct_rec += sum(ttl)\n",
    "        ct_usr += ct_rec / len(val_all)\n",
    "        \n",
    "    return ct_usr / len(truth_df.user.values)"
   ]
  },
  {
   "cell_type": "code",
   "execution_count": 22,
   "metadata": {},
   "outputs": [
    {
     "name": "stderr",
     "output_type": "stream",
     "text": [
      "100%|██████████| 10000/10000 [00:10<00:00, 948.16it/s]\n"
     ]
    },
    {
     "data": {
      "text/plain": [
       "0.0439124768155222"
      ]
     },
     "execution_count": 22,
     "metadata": {},
     "output_type": "execute_result"
    }
   ],
   "source": [
    "meanAP(recs_listed, truth_listed)"
   ]
  },
  {
   "cell_type": "code",
   "execution_count": 23,
   "metadata": {},
   "outputs": [],
   "source": [
    "def ndcg(k, rec_df, truth_df):\n",
    "    ct_usr = 0\n",
    "    for usr in tqdm(truth_df.user.values):\n",
    "        rec_all = rec_df[rec_df['user'] == usr].item.values[0]\n",
    "        val_all = truth_df[truth_df['user'] == usr].item.values[0]\n",
    "        n = min(max(len(rec_all), len(val_all)), k)\n",
    "        idcg_n = min(len(val_all), k)\n",
    "        idcg = sum([1/(np.log(j+2)) for j in range(idcg_n)])\n",
    "        ttl = [rec_item in val_all for rec_item in rec_all[:n]]\n",
    "        ttl = sum([v/np.log(j+2) for j, v in enumerate(ttl)])\n",
    "        ttl *= 1/idcg\n",
    "        ct_usr += ttl\n",
    "    return ct_usr / len(truth_df.user.values)"
   ]
  },
  {
   "cell_type": "code",
   "execution_count": 24,
   "metadata": {},
   "outputs": [
    {
     "name": "stderr",
     "output_type": "stream",
     "text": [
      "100%|██████████| 10000/10000 [00:29<00:00, 343.32it/s]\n"
     ]
    },
    {
     "data": {
      "text/plain": [
       "0.2420377314444504"
      ]
     },
     "execution_count": 24,
     "metadata": {},
     "output_type": "execute_result"
    }
   ],
   "source": [
    "ndcg(500,recs_listed, truth_listed)"
   ]
  },
  {
   "cell_type": "code",
   "execution_count": null,
   "metadata": {},
   "outputs": [],
   "source": [
    "# combined = recs.join(truth, on = 'user', how = 'inner', lsuffix = '_rec', rsuffix = '_val')\n",
    "\n",
    "# #combined = combined.dropna()\n",
    "\n",
    "# len(combined.user.unique())\n",
    "\n",
    "# combined.head()\n",
    "\n",
    "# m_rmse = combined.groupby('user').apply(lambda df: rmse(df.score, df.rating))\n",
    "\n",
    "# m_mae = combined.groupby('user').apply(lambda df: mae(df.score, df.rating))\n",
    "\n",
    "# m_ndcg = topn.ndcg(recs, truth)\n",
    "\n",
    "\n",
    "# m_rmse.describe()\n",
    "\n",
    "# m_mae.describe()\n",
    "\n",
    "# m_ndcg\n",
    "\n",
    "# combined.loc[combined['item_rec'] != combined['item_val'], 'score'] = 0\n",
    "# # combined_bias['score'][combined_bias['item_rec'] != combined_bias['item_val']] = 0\n",
    "\n",
    "# m_rmse = combined.groupby('user').apply(lambda df: rmse(df.score, df.rating))\n",
    "\n",
    "# m_mae = combined.groupby('user').apply(lambda df: mae(df.score, df.rating))\n",
    "\n",
    "# m_ndcg = topn.ndcg(recs, truth)\n",
    "\n",
    "\n",
    "# m_rmse.describe()\n",
    "\n",
    "# m_mae.describe()\n",
    "\n",
    "# m_ndcg"
   ]
  },
  {
   "cell_type": "markdown",
   "metadata": {},
   "source": [
    "# Popularity baseline Model"
   ]
  },
  {
   "cell_type": "code",
   "execution_count": null,
   "metadata": {},
   "outputs": [],
   "source": [
    "bias_errs = {}"
   ]
  },
  {
   "cell_type": "code",
   "execution_count": null,
   "metadata": {},
   "outputs": [],
   "source": [
    "# search\n",
    "# damping_params = range(0, 301, 50)\n",
    "damping_params = range(550, 801, 50)\n",
    "for damp in damping_params:\n",
    "    bias_errs[str(damp)] = []\n",
    "    algo_bias = bias.Bias(items = True, users = True, damping = damp) #tunable: damping\n",
    "\n",
    "    fittable_bias = util.clone(algo_bias)\n",
    "\n",
    "    fittable_bias = Recommender.adapt(fittable_bias)\n",
    "\n",
    "    fittable_bias.fit(train, n_jobs = -1)\n",
    "\n",
    "    recs_bias = batch.recommend(fittable_bias, sub_ids, 500, n_jobs = 4)\n",
    "    recs_bias['user'] = recs_bias['user'].map(int)\n",
    "    # recs_bias.head()\n",
    "\n",
    "    recs_bias_listed = pd.DataFrame({'item':recs_bias.groupby('user').item.apply(list)}).reset_index()\n",
    "    bias_errs[str(damp)].append(pk(500, recs_bias_listed, truth_listed))\n",
    "    bias_errs[str(damp)].append(meanAP(recs_bias_listed, truth_listed))\n",
    "    bias_errs[str(damp)].append(ndcg(500,recs_bias_listed, truth_listed))"
   ]
  },
  {
   "cell_type": "code",
   "execution_count": null,
   "metadata": {},
   "outputs": [],
   "source": [
    "# with open('broad_bias_errs.pkl', 'rb') as f:\n",
    "#     be2 = pickle.load(f)\n",
    "# for kk, vv in be2.items():\n",
    "#     print(kk, vv)"
   ]
  },
  {
   "cell_type": "code",
   "execution_count": null,
   "metadata": {},
   "outputs": [],
   "source": [
    "for kk, vv in bias_errs.items():\n",
    "    print(kk, vv)"
   ]
  },
  {
   "cell_type": "code",
   "execution_count": null,
   "metadata": {},
   "outputs": [],
   "source": [
    "with open('broad_bias_errs_3.pkl', 'wb') as f:\n",
    "    pickle.dump(bias_errs, f)"
   ]
  },
  {
   "cell_type": "code",
   "execution_count": null,
   "metadata": {},
   "outputs": [],
   "source": [
    "algo_bias = bias.Bias(items = True, users = True, damping = (1000000, 10000000)) #tunable: damping\n",
    "\n",
    "#fittable_bias = util.clone(algo_bias)\n",
    "fittable_bias = algo_bias\n",
    "fittable_bias = Recommender.adapt(fittable_bias)\n",
    "\n",
    "fittable_bias.fit(train, n_jobs = -1)"
   ]
  },
  {
   "cell_type": "code",
   "execution_count": null,
   "metadata": {},
   "outputs": [],
   "source": [
    "recs_bias = batch.recommend(fittable_bias, sub_ids, 500, n_jobs = 4)\n",
    "recs_bias['user'] = recs_bias['user'].map(int)\n",
    "recs_bias.head()"
   ]
  },
  {
   "cell_type": "code",
   "execution_count": null,
   "metadata": {},
   "outputs": [],
   "source": [
    "recs_bias_listed = pd.DataFrame({'item':recs_bias.groupby('user').item.apply(list)}).reset_index()"
   ]
  },
  {
   "cell_type": "code",
   "execution_count": null,
   "metadata": {},
   "outputs": [],
   "source": [
    "recs_bias_listed.head()"
   ]
  },
  {
   "cell_type": "code",
   "execution_count": null,
   "metadata": {},
   "outputs": [],
   "source": [
    "pk(500, recs_bias_listed, truth_listed)"
   ]
  },
  {
   "cell_type": "code",
   "execution_count": null,
   "metadata": {},
   "outputs": [],
   "source": [
    "meanAP(recs_bias_listed, truth_listed)"
   ]
  },
  {
   "cell_type": "code",
   "execution_count": null,
   "metadata": {},
   "outputs": [],
   "source": [
    "ndcg(500,recs_bias_listed, truth_listed)"
   ]
  },
  {
   "cell_type": "code",
   "execution_count": null,
   "metadata": {},
   "outputs": [],
   "source": [
    "# combined_bias = recs_bias.join(truth, on = ['user'], how = 'inner', lsuffix = '_rec', rsuffix = '_val')\n",
    "\n",
    "# combined_bias = combined_bias.dropna()\n",
    "\n",
    "# len(combined_bias.user.unique())\n",
    "\n",
    "# combined_bias.head()\n",
    "\n",
    "# m_rmse_bias = combined_bias.groupby('user').apply(lambda df: rmse(df.score, df.rating))\n",
    "\n",
    "# m_mae_bias = combined_bias.groupby('user').apply(lambda df: mae(df.score, df.rating))\n",
    "\n",
    "# m_ndcg_bias = topn.ndcg(recs_bias, truth)\n",
    "\n",
    "# # rla = topn.RecListAnalysis()\n",
    "\n",
    "# # rla.add_metric(topn.ndcg)\n",
    "\n",
    "# # m_ndcg = rla.compute(recs_bias, truth)\n",
    "\n",
    "# m_rmse_bias.describe()\n",
    "\n",
    "# m_mae_bias.describe()\n",
    "\n",
    "# m_ndcg_bias\n",
    "\n",
    "# combined_bias.loc[combined_bias['item_rec'] != combined_bias['item_val'], 'score'] = 0\n",
    "# # combined_bias['score'][combined_bias['item_rec'] != combined_bias['item_val']] = 0\n",
    "\n",
    "# m_rmse_bias = combined_bias.groupby('user').apply(lambda df: rmse(df.score, df.rating))\n",
    "\n",
    "# m_mae_bias = combined_bias.groupby('user').apply(lambda df: mae(df.score, df.rating))\n",
    "\n",
    "# m_ndcg_bias = topn.ndcg(recs_bias, truth)\n",
    "\n",
    "# # rla = topn.RecListAnalysis()\n",
    "\n",
    "# # rla.add_metric(topn.ndcg)\n",
    "\n",
    "# # m_ndcg = rla.compute(recs_bias, truth)\n",
    "\n",
    "# m_rmse_bias.describe()\n",
    "\n",
    "# m_mae_bias.describe()\n",
    "\n",
    "# m_ndcg_bias"
   ]
  }
 ],
 "metadata": {
  "kernelspec": {
   "display_name": "Python 3",
   "language": "python",
   "name": "python3"
  },
  "language_info": {
   "codemirror_mode": {
    "name": "ipython",
    "version": 3
   },
   "file_extension": ".py",
   "mimetype": "text/x-python",
   "name": "python",
   "nbconvert_exporter": "python",
   "pygments_lexer": "ipython3",
   "version": "3.8.6"
  }
 },
 "nbformat": 4,
 "nbformat_minor": 4
}
