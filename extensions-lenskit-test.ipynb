{
 "cells": [
  {
   "cell_type": "markdown",
   "metadata": {},
   "source": [
    "# Import Packages"
   ]
  },
  {
   "cell_type": "code",
   "execution_count": 1,
   "metadata": {},
   "outputs": [],
   "source": [
    "from tqdm import tqdm\n",
    "from lenskit import batch, topn, util\n",
    "from lenskit import crossfold as xf\n",
    "from lenskit.algorithms import Recommender, als, bias, item_knn as knn\n",
    "from lenskit.metrics import topn\n",
    "from lenskit.metrics.predict import rmse, mae\n",
    "import pickle\n",
    "import pandas as pd\n",
    "%matplotlib inline\n",
    "\n",
    "import pyarrow.parquet as pq\n",
    "\n",
    "import numpy as np"
   ]
  },
  {
   "cell_type": "markdown",
   "metadata": {},
   "source": [
    "# Data Processing"
   ]
  },
  {
   "cell_type": "code",
   "execution_count": 2,
   "metadata": {},
   "outputs": [
    {
     "data": {
      "text/html": [
       "<div>\n",
       "<style scoped>\n",
       "    .dataframe tbody tr th:only-of-type {\n",
       "        vertical-align: middle;\n",
       "    }\n",
       "\n",
       "    .dataframe tbody tr th {\n",
       "        vertical-align: top;\n",
       "    }\n",
       "\n",
       "    .dataframe thead th {\n",
       "        text-align: right;\n",
       "    }\n",
       "</style>\n",
       "<table border=\"1\" class=\"dataframe\">\n",
       "  <thead>\n",
       "    <tr style=\"text-align: right;\">\n",
       "      <th></th>\n",
       "      <th>user_id</th>\n",
       "      <th>rating</th>\n",
       "      <th>track_id</th>\n",
       "      <th>user</th>\n",
       "      <th>item</th>\n",
       "    </tr>\n",
       "  </thead>\n",
       "  <tbody>\n",
       "    <tr>\n",
       "      <th>0</th>\n",
       "      <td>b80344d063b5ccb3212f76538f3d9e43d87dca9e</td>\n",
       "      <td>1</td>\n",
       "      <td>TRIQAUQ128F42435AD</td>\n",
       "      <td>0</td>\n",
       "      <td>0</td>\n",
       "    </tr>\n",
       "    <tr>\n",
       "      <th>1</th>\n",
       "      <td>b80344d063b5ccb3212f76538f3d9e43d87dca9e</td>\n",
       "      <td>1</td>\n",
       "      <td>TRIRLYL128F42539D1</td>\n",
       "      <td>0</td>\n",
       "      <td>1</td>\n",
       "    </tr>\n",
       "    <tr>\n",
       "      <th>2</th>\n",
       "      <td>b80344d063b5ccb3212f76538f3d9e43d87dca9e</td>\n",
       "      <td>2</td>\n",
       "      <td>TRMHBXZ128F4238406</td>\n",
       "      <td>0</td>\n",
       "      <td>2</td>\n",
       "    </tr>\n",
       "    <tr>\n",
       "      <th>3</th>\n",
       "      <td>b80344d063b5ccb3212f76538f3d9e43d87dca9e</td>\n",
       "      <td>1</td>\n",
       "      <td>TRYQMNI128F147C1C7</td>\n",
       "      <td>0</td>\n",
       "      <td>3</td>\n",
       "    </tr>\n",
       "    <tr>\n",
       "      <th>4</th>\n",
       "      <td>b80344d063b5ccb3212f76538f3d9e43d87dca9e</td>\n",
       "      <td>1</td>\n",
       "      <td>TRAHZNE128F9341B86</td>\n",
       "      <td>0</td>\n",
       "      <td>4</td>\n",
       "    </tr>\n",
       "  </tbody>\n",
       "</table>\n",
       "</div>"
      ],
      "text/plain": [
       "                                    user_id  rating            track_id  user  \\\n",
       "0  b80344d063b5ccb3212f76538f3d9e43d87dca9e       1  TRIQAUQ128F42435AD     0   \n",
       "1  b80344d063b5ccb3212f76538f3d9e43d87dca9e       1  TRIRLYL128F42539D1     0   \n",
       "2  b80344d063b5ccb3212f76538f3d9e43d87dca9e       2  TRMHBXZ128F4238406     0   \n",
       "3  b80344d063b5ccb3212f76538f3d9e43d87dca9e       1  TRYQMNI128F147C1C7     0   \n",
       "4  b80344d063b5ccb3212f76538f3d9e43d87dca9e       1  TRAHZNE128F9341B86     0   \n",
       "\n",
       "   item  \n",
       "0     0  \n",
       "1     1  \n",
       "2     2  \n",
       "3     3  \n",
       "4     4  "
      ]
     },
     "execution_count": 2,
     "metadata": {},
     "output_type": "execute_result"
    }
   ],
   "source": [
    "train = pq.read_table('cf_train_new.pq').to_pandas()\n",
    "\n",
    "usr_idx_dict = {}\n",
    "for idx, usr in enumerate(train.user_id.unique()):\n",
    "    usr_idx_dict[usr] = idx\n",
    "\n",
    "train['user'] = train.user_id.map(usr_idx_dict)\n",
    "\n",
    "track_idx_dict = {}\n",
    "for idx, track in enumerate(train.track_id.unique()):\n",
    "    track_idx_dict[track] = idx\n",
    "\n",
    "train['item'] = train.track_id.map(track_idx_dict)\n",
    "\n",
    "train = train.rename({'count':'rating'}, axis = 1)\n",
    "\n",
    "train.head()"
   ]
  },
  {
   "cell_type": "code",
   "execution_count": 3,
   "metadata": {},
   "outputs": [
    {
     "data": {
      "text/html": [
       "<div>\n",
       "<style scoped>\n",
       "    .dataframe tbody tr th:only-of-type {\n",
       "        vertical-align: middle;\n",
       "    }\n",
       "\n",
       "    .dataframe tbody tr th {\n",
       "        vertical-align: top;\n",
       "    }\n",
       "\n",
       "    .dataframe thead th {\n",
       "        text-align: right;\n",
       "    }\n",
       "</style>\n",
       "<table border=\"1\" class=\"dataframe\">\n",
       "  <thead>\n",
       "    <tr style=\"text-align: right;\">\n",
       "      <th></th>\n",
       "      <th>user_id</th>\n",
       "      <th>rating</th>\n",
       "      <th>track_id</th>\n",
       "      <th>user</th>\n",
       "      <th>item</th>\n",
       "    </tr>\n",
       "  </thead>\n",
       "  <tbody>\n",
       "    <tr>\n",
       "      <th>0</th>\n",
       "      <td>00007a02388c208ea7176479f6ae06f8224355b3</td>\n",
       "      <td>1</td>\n",
       "      <td>TRXYDST128F92EC024</td>\n",
       "      <td>1029318</td>\n",
       "      <td>54969.0</td>\n",
       "    </tr>\n",
       "    <tr>\n",
       "      <th>1</th>\n",
       "      <td>00007a02388c208ea7176479f6ae06f8224355b3</td>\n",
       "      <td>2</td>\n",
       "      <td>TRJREQL128F92EF09A</td>\n",
       "      <td>1029318</td>\n",
       "      <td>2086.0</td>\n",
       "    </tr>\n",
       "    <tr>\n",
       "      <th>2</th>\n",
       "      <td>00007a02388c208ea7176479f6ae06f8224355b3</td>\n",
       "      <td>3</td>\n",
       "      <td>TRFXKPH128E0793B8E</td>\n",
       "      <td>1029318</td>\n",
       "      <td>3020.0</td>\n",
       "    </tr>\n",
       "    <tr>\n",
       "      <th>3</th>\n",
       "      <td>00007a02388c208ea7176479f6ae06f8224355b3</td>\n",
       "      <td>1</td>\n",
       "      <td>TRMSLFG128F93172F0</td>\n",
       "      <td>1029318</td>\n",
       "      <td>13582.0</td>\n",
       "    </tr>\n",
       "    <tr>\n",
       "      <th>4</th>\n",
       "      <td>00007a02388c208ea7176479f6ae06f8224355b3</td>\n",
       "      <td>1</td>\n",
       "      <td>TRYNPHN128F92EF091</td>\n",
       "      <td>1029318</td>\n",
       "      <td>2130.0</td>\n",
       "    </tr>\n",
       "  </tbody>\n",
       "</table>\n",
       "</div>"
      ],
      "text/plain": [
       "                                    user_id  rating            track_id  \\\n",
       "0  00007a02388c208ea7176479f6ae06f8224355b3       1  TRXYDST128F92EC024   \n",
       "1  00007a02388c208ea7176479f6ae06f8224355b3       2  TRJREQL128F92EF09A   \n",
       "2  00007a02388c208ea7176479f6ae06f8224355b3       3  TRFXKPH128E0793B8E   \n",
       "3  00007a02388c208ea7176479f6ae06f8224355b3       1  TRMSLFG128F93172F0   \n",
       "4  00007a02388c208ea7176479f6ae06f8224355b3       1  TRYNPHN128F92EF091   \n",
       "\n",
       "      user     item  \n",
       "0  1029318  54969.0  \n",
       "1  1029318   2086.0  \n",
       "2  1029318   3020.0  \n",
       "3  1029318  13582.0  \n",
       "4  1029318   2130.0  "
      ]
     },
     "execution_count": 3,
     "metadata": {},
     "output_type": "execute_result"
    }
   ],
   "source": [
    "val = pq.read_table('cf_test.pq').to_pandas()\n",
    "\n",
    "# usr_idx_dict = {}\n",
    "# for idx, usr in enumerate(val.user_id.unique()):\n",
    "#     usr_idx_dict[usr] = idx\n",
    "\n",
    "val['user'] = val.user_id.map(usr_idx_dict)\n",
    "\n",
    "# track_idx_dict = {}\n",
    "# for idx, track in enumerate(val.track_id.unique()):\n",
    "#     track_idx_dict[track] = idx\n",
    "\n",
    "val['item'] = val.track_id.map(track_idx_dict)\n",
    "\n",
    "val = val.rename({'count':'rating'}, axis = 1)\n",
    "\n",
    "val.head()"
   ]
  },
  {
   "cell_type": "code",
   "execution_count": 4,
   "metadata": {},
   "outputs": [],
   "source": [
    "truth = val[['user', 'item', 'rating']].dropna()\n",
    "\n",
    "sub_ids = truth.user.unique()"
   ]
  },
  {
   "cell_type": "code",
   "execution_count": 5,
   "metadata": {},
   "outputs": [
    {
     "data": {
      "text/html": [
       "<div>\n",
       "<style scoped>\n",
       "    .dataframe tbody tr th:only-of-type {\n",
       "        vertical-align: middle;\n",
       "    }\n",
       "\n",
       "    .dataframe tbody tr th {\n",
       "        vertical-align: top;\n",
       "    }\n",
       "\n",
       "    .dataframe thead th {\n",
       "        text-align: right;\n",
       "    }\n",
       "</style>\n",
       "<table border=\"1\" class=\"dataframe\">\n",
       "  <thead>\n",
       "    <tr style=\"text-align: right;\">\n",
       "      <th></th>\n",
       "      <th>user</th>\n",
       "      <th>item</th>\n",
       "      <th>rating</th>\n",
       "    </tr>\n",
       "  </thead>\n",
       "  <tbody>\n",
       "    <tr>\n",
       "      <th>0</th>\n",
       "      <td>1029318</td>\n",
       "      <td>54969</td>\n",
       "      <td>1</td>\n",
       "    </tr>\n",
       "    <tr>\n",
       "      <th>1</th>\n",
       "      <td>1029318</td>\n",
       "      <td>2086</td>\n",
       "      <td>2</td>\n",
       "    </tr>\n",
       "    <tr>\n",
       "      <th>2</th>\n",
       "      <td>1029318</td>\n",
       "      <td>3020</td>\n",
       "      <td>3</td>\n",
       "    </tr>\n",
       "    <tr>\n",
       "      <th>3</th>\n",
       "      <td>1029318</td>\n",
       "      <td>13582</td>\n",
       "      <td>1</td>\n",
       "    </tr>\n",
       "    <tr>\n",
       "      <th>4</th>\n",
       "      <td>1029318</td>\n",
       "      <td>2130</td>\n",
       "      <td>1</td>\n",
       "    </tr>\n",
       "  </tbody>\n",
       "</table>\n",
       "</div>"
      ],
      "text/plain": [
       "      user   item  rating\n",
       "0  1029318  54969       1\n",
       "1  1029318   2086       2\n",
       "2  1029318   3020       3\n",
       "3  1029318  13582       1\n",
       "4  1029318   2130       1"
      ]
     },
     "execution_count": 5,
     "metadata": {},
     "output_type": "execute_result"
    }
   ],
   "source": [
    "truth['user'] = truth['user'].map(int)\n",
    "truth['item'] = truth['item'].map(int)\n",
    "truth.head()"
   ]
  },
  {
   "cell_type": "code",
   "execution_count": 6,
   "metadata": {},
   "outputs": [
    {
     "data": {
      "text/html": [
       "<div>\n",
       "<style scoped>\n",
       "    .dataframe tbody tr th:only-of-type {\n",
       "        vertical-align: middle;\n",
       "    }\n",
       "\n",
       "    .dataframe tbody tr th {\n",
       "        vertical-align: top;\n",
       "    }\n",
       "\n",
       "    .dataframe thead th {\n",
       "        text-align: right;\n",
       "    }\n",
       "</style>\n",
       "<table border=\"1\" class=\"dataframe\">\n",
       "  <thead>\n",
       "    <tr style=\"text-align: right;\">\n",
       "      <th></th>\n",
       "      <th>user</th>\n",
       "      <th>item</th>\n",
       "    </tr>\n",
       "  </thead>\n",
       "  <tbody>\n",
       "    <tr>\n",
       "      <th>0</th>\n",
       "      <td>1029318</td>\n",
       "      <td>[54969, 2086, 3020, 13582, 2130, 47446, 2644, ...</td>\n",
       "    </tr>\n",
       "    <tr>\n",
       "      <th>1</th>\n",
       "      <td>1029319</td>\n",
       "      <td>[116519, 8584, 72204, 183817, 132142, 89172, 1...</td>\n",
       "    </tr>\n",
       "    <tr>\n",
       "      <th>2</th>\n",
       "      <td>1029320</td>\n",
       "      <td>[16568, 3756, 1130, 11, 22, 200, 3366, 4607, 1...</td>\n",
       "    </tr>\n",
       "    <tr>\n",
       "      <th>3</th>\n",
       "      <td>1029321</td>\n",
       "      <td>[5673, 329872, 286165, 30764, 809, 796, 30751,...</td>\n",
       "    </tr>\n",
       "    <tr>\n",
       "      <th>4</th>\n",
       "      <td>1029322</td>\n",
       "      <td>[12628, 25977, 7882, 67393, 7979, 20684, 24574...</td>\n",
       "    </tr>\n",
       "  </tbody>\n",
       "</table>\n",
       "</div>"
      ],
      "text/plain": [
       "      user                                               item\n",
       "0  1029318  [54969, 2086, 3020, 13582, 2130, 47446, 2644, ...\n",
       "1  1029319  [116519, 8584, 72204, 183817, 132142, 89172, 1...\n",
       "2  1029320  [16568, 3756, 1130, 11, 22, 200, 3366, 4607, 1...\n",
       "3  1029321  [5673, 329872, 286165, 30764, 809, 796, 30751,...\n",
       "4  1029322  [12628, 25977, 7882, 67393, 7979, 20684, 24574..."
      ]
     },
     "execution_count": 6,
     "metadata": {},
     "output_type": "execute_result"
    }
   ],
   "source": [
    "truth_listed = pd.DataFrame({'item':truth.groupby('user').item.apply(list)}).reset_index()\n",
    "\n",
    "truth_listed.head()"
   ]
  },
  {
   "cell_type": "code",
   "execution_count": 7,
   "metadata": {},
   "outputs": [
    {
     "data": {
      "text/plain": [
       "100000"
      ]
     },
     "execution_count": 7,
     "metadata": {},
     "output_type": "execute_result"
    }
   ],
   "source": [
    "len(truth_listed.user.unique())"
   ]
  },
  {
   "cell_type": "markdown",
   "metadata": {},
   "source": [
    "# ALS model - single machine"
   ]
  },
  {
   "cell_type": "code",
   "execution_count": 5,
   "metadata": {},
   "outputs": [
    {
     "data": {
      "text/plain": [
       "<lenskit.algorithms.basic.TopN at 0x147573263b80>"
      ]
     },
     "execution_count": 5,
     "metadata": {},
     "output_type": "execute_result"
    }
   ],
   "source": [
    "# algo_als = als.ImplicitMF(90, iterations = 30, reg = 0.01, weight = 40, method = 'lu') \n",
    "# #tunable: features, iterations, reg, weight\n",
    "\n",
    "# fittable = util.clone(algo_als)\n",
    "\n",
    "# fittable = Recommender.adapt(fittable)\n",
    "\n",
    "# fittable.fit(train, n_jobs = -1)"
   ]
  },
  {
   "cell_type": "code",
   "execution_count": 8,
   "metadata": {},
   "outputs": [],
   "source": [
    "with open('model_val_200.pkl', 'rb') as f:\n",
    "    fittable = pickle.load(f)"
   ]
  },
  {
   "cell_type": "code",
   "execution_count": 9,
   "metadata": {},
   "outputs": [
    {
     "data": {
      "text/html": [
       "<div>\n",
       "<style scoped>\n",
       "    .dataframe tbody tr th:only-of-type {\n",
       "        vertical-align: middle;\n",
       "    }\n",
       "\n",
       "    .dataframe tbody tr th {\n",
       "        vertical-align: top;\n",
       "    }\n",
       "\n",
       "    .dataframe thead th {\n",
       "        text-align: right;\n",
       "    }\n",
       "</style>\n",
       "<table border=\"1\" class=\"dataframe\">\n",
       "  <thead>\n",
       "    <tr style=\"text-align: right;\">\n",
       "      <th></th>\n",
       "      <th>item</th>\n",
       "      <th>score</th>\n",
       "      <th>user</th>\n",
       "      <th>rank</th>\n",
       "    </tr>\n",
       "  </thead>\n",
       "  <tbody>\n",
       "    <tr>\n",
       "      <th>0</th>\n",
       "      <td>8992</td>\n",
       "      <td>0.066132</td>\n",
       "      <td>1029318</td>\n",
       "      <td>1</td>\n",
       "    </tr>\n",
       "    <tr>\n",
       "      <th>1</th>\n",
       "      <td>9452</td>\n",
       "      <td>0.057833</td>\n",
       "      <td>1029318</td>\n",
       "      <td>2</td>\n",
       "    </tr>\n",
       "    <tr>\n",
       "      <th>2</th>\n",
       "      <td>6713</td>\n",
       "      <td>0.054853</td>\n",
       "      <td>1029318</td>\n",
       "      <td>3</td>\n",
       "    </tr>\n",
       "    <tr>\n",
       "      <th>3</th>\n",
       "      <td>10191</td>\n",
       "      <td>0.049022</td>\n",
       "      <td>1029318</td>\n",
       "      <td>4</td>\n",
       "    </tr>\n",
       "    <tr>\n",
       "      <th>4</th>\n",
       "      <td>6712</td>\n",
       "      <td>0.048682</td>\n",
       "      <td>1029318</td>\n",
       "      <td>5</td>\n",
       "    </tr>\n",
       "  </tbody>\n",
       "</table>\n",
       "</div>"
      ],
      "text/plain": [
       "    item     score     user  rank\n",
       "0   8992  0.066132  1029318     1\n",
       "1   9452  0.057833  1029318     2\n",
       "2   6713  0.054853  1029318     3\n",
       "3  10191  0.049022  1029318     4\n",
       "4   6712  0.048682  1029318     5"
      ]
     },
     "execution_count": 9,
     "metadata": {},
     "output_type": "execute_result"
    }
   ],
   "source": [
    "recs = batch.recommend(fittable, sub_ids, 500, n_jobs = 4)\n",
    "recs['user'] = recs['user'].map(int)\n",
    "recs.head()"
   ]
  },
  {
   "cell_type": "code",
   "execution_count": 10,
   "metadata": {},
   "outputs": [],
   "source": [
    "recs_listed = pd.DataFrame({'item':recs.groupby('user').item.apply(list)}).reset_index()"
   ]
  },
  {
   "cell_type": "code",
   "execution_count": 11,
   "metadata": {},
   "outputs": [
    {
     "data": {
      "text/html": [
       "<div>\n",
       "<style scoped>\n",
       "    .dataframe tbody tr th:only-of-type {\n",
       "        vertical-align: middle;\n",
       "    }\n",
       "\n",
       "    .dataframe tbody tr th {\n",
       "        vertical-align: top;\n",
       "    }\n",
       "\n",
       "    .dataframe thead th {\n",
       "        text-align: right;\n",
       "    }\n",
       "</style>\n",
       "<table border=\"1\" class=\"dataframe\">\n",
       "  <thead>\n",
       "    <tr style=\"text-align: right;\">\n",
       "      <th></th>\n",
       "      <th>user</th>\n",
       "      <th>item</th>\n",
       "    </tr>\n",
       "  </thead>\n",
       "  <tbody>\n",
       "    <tr>\n",
       "      <th>0</th>\n",
       "      <td>1029318</td>\n",
       "      <td>[8992, 9452, 6713, 10191, 6712, 14357, 27163, ...</td>\n",
       "    </tr>\n",
       "    <tr>\n",
       "      <th>1</th>\n",
       "      <td>1029319</td>\n",
       "      <td>[744, 185, 863, 839, 675, 847, 15298, 701, 133...</td>\n",
       "    </tr>\n",
       "    <tr>\n",
       "      <th>2</th>\n",
       "      <td>1029320</td>\n",
       "      <td>[1247, 1303, 6481, 3398, 3366, 1746, 7631, 295...</td>\n",
       "    </tr>\n",
       "    <tr>\n",
       "      <th>3</th>\n",
       "      <td>1029321</td>\n",
       "      <td>[9508, 1463, 1685, 25868, 3511, 8138, 1340, 19...</td>\n",
       "    </tr>\n",
       "    <tr>\n",
       "      <th>4</th>\n",
       "      <td>1029322</td>\n",
       "      <td>[7749, 448, 7979, 3628, 7882, 7673, 460, 24016...</td>\n",
       "    </tr>\n",
       "  </tbody>\n",
       "</table>\n",
       "</div>"
      ],
      "text/plain": [
       "      user                                               item\n",
       "0  1029318  [8992, 9452, 6713, 10191, 6712, 14357, 27163, ...\n",
       "1  1029319  [744, 185, 863, 839, 675, 847, 15298, 701, 133...\n",
       "2  1029320  [1247, 1303, 6481, 3398, 3366, 1746, 7631, 295...\n",
       "3  1029321  [9508, 1463, 1685, 25868, 3511, 8138, 1340, 19...\n",
       "4  1029322  [7749, 448, 7979, 3628, 7882, 7673, 460, 24016..."
      ]
     },
     "execution_count": 11,
     "metadata": {},
     "output_type": "execute_result"
    }
   ],
   "source": [
    "recs_listed.head()"
   ]
  },
  {
   "cell_type": "code",
   "execution_count": 12,
   "metadata": {},
   "outputs": [],
   "source": [
    "recs_listed.to_pickle('recs_cf_200.pkl')"
   ]
  },
  {
   "cell_type": "code",
   "execution_count": 15,
   "metadata": {},
   "outputs": [],
   "source": [
    "# len(truth_listed[truth_listed['user'] == 1010207].item.values[0])\n",
    "\n",
    "# truth_listed.user.values[0]\n",
    "\n",
    "# [truth_listed[truth_listed['user'] == 1010207].item.values[0]]"
   ]
  },
  {
   "cell_type": "code",
   "execution_count": 13,
   "metadata": {},
   "outputs": [],
   "source": [
    "def pk(k, rec_df, truth_df):\n",
    "    '''\n",
    "    compute precision at k\n",
    "    '''\n",
    "    ct_usr = 0\n",
    "    for usr in tqdm(truth_df.user.values):\n",
    "        ct_rec = 0\n",
    "        rec_all = rec_df[rec_df['user'] == usr].item.values[0][:k]\n",
    "        val_all = truth_df[truth_df['user'] == usr].item.values[0]\n",
    "        ttl = [rec_item in val_all for rec_item in rec_all]\n",
    "        ct_rec = sum(ttl)\n",
    "        ct_usr += ct_rec / k\n",
    "    return ct_usr / len(truth_df.user.values)      "
   ]
  },
  {
   "cell_type": "code",
   "execution_count": 14,
   "metadata": {},
   "outputs": [
    {
     "name": "stderr",
     "output_type": "stream",
     "text": [
      "100%|██████████| 100000/100000 [02:01<00:00, 820.01it/s]\n"
     ]
    },
    {
     "data": {
      "text/plain": [
       "0.011210979999995166"
      ]
     },
     "execution_count": 14,
     "metadata": {},
     "output_type": "execute_result"
    }
   ],
   "source": [
    "pk(500, recs_listed, truth_listed)"
   ]
  },
  {
   "cell_type": "code",
   "execution_count": 15,
   "metadata": {},
   "outputs": [],
   "source": [
    "def meanAP(rec_df, truth_df):\n",
    "    ct_usr = 0\n",
    "    for usr in tqdm(truth_df.user.values):\n",
    "        ct_rec = 0\n",
    "        rec_all = rec_df[rec_df['user'] == usr].item.values[0]\n",
    "        val_all = truth_df[truth_df['user'] == usr].item.values[0]\n",
    "        ttl = [rec_item in val_all for rec_item in rec_all]\n",
    "        ttl = [v/(j+1) for j,v in enumerate(ttl)]\n",
    "        ct_rec += sum(ttl)\n",
    "        ct_usr += ct_rec / len(val_all)\n",
    "        \n",
    "    return ct_usr / len(truth_df.user.values)"
   ]
  },
  {
   "cell_type": "code",
   "execution_count": 16,
   "metadata": {},
   "outputs": [
    {
     "name": "stderr",
     "output_type": "stream",
     "text": [
      "100%|██████████| 100000/100000 [02:07<00:00, 783.13it/s]\n"
     ]
    },
    {
     "data": {
      "text/plain": [
       "0.04352420877165051"
      ]
     },
     "execution_count": 16,
     "metadata": {},
     "output_type": "execute_result"
    }
   ],
   "source": [
    "meanAP(recs_listed, truth_listed)"
   ]
  },
  {
   "cell_type": "code",
   "execution_count": 17,
   "metadata": {},
   "outputs": [],
   "source": [
    "def ndcg(k, rec_df, truth_df):\n",
    "    ct_usr = 0\n",
    "    for usr in tqdm(truth_df.user.values):\n",
    "        rec_all = rec_df[rec_df['user'] == usr].item.values[0]\n",
    "        val_all = truth_df[truth_df['user'] == usr].item.values[0]\n",
    "        n = min(max(len(rec_all), len(val_all)), k)\n",
    "        idcg_n = min(len(val_all), k)\n",
    "        idcg = sum([1/(np.log(j+2)) for j in range(idcg_n)])\n",
    "        ttl = [rec_item in val_all for rec_item in rec_all[:n]]\n",
    "        ttl = sum([v/np.log(j+2) for j, v in enumerate(ttl)])\n",
    "        ttl *= 1/idcg\n",
    "        ct_usr += ttl\n",
    "    return ct_usr / len(truth_df.user.values)"
   ]
  },
  {
   "cell_type": "code",
   "execution_count": 18,
   "metadata": {},
   "outputs": [
    {
     "name": "stderr",
     "output_type": "stream",
     "text": [
      "100%|██████████| 100000/100000 [05:13<00:00, 318.65it/s]\n"
     ]
    },
    {
     "data": {
      "text/plain": [
       "0.24081916426642405"
      ]
     },
     "execution_count": 18,
     "metadata": {},
     "output_type": "execute_result"
    }
   ],
   "source": [
    "ndcg(500,recs_listed, truth_listed)"
   ]
  },
  {
   "cell_type": "code",
   "execution_count": null,
   "metadata": {},
   "outputs": [],
   "source": [
    "# combined = recs.join(truth, on = 'user', how = 'inner', lsuffix = '_rec', rsuffix = '_val')\n",
    "\n",
    "# #combined = combined.dropna()\n",
    "\n",
    "# len(combined.user.unique())\n",
    "\n",
    "# combined.head()\n",
    "\n",
    "# m_rmse = combined.groupby('user').apply(lambda df: rmse(df.score, df.rating))\n",
    "\n",
    "# m_mae = combined.groupby('user').apply(lambda df: mae(df.score, df.rating))\n",
    "\n",
    "# m_ndcg = topn.ndcg(recs, truth)\n",
    "\n",
    "\n",
    "# m_rmse.describe()\n",
    "\n",
    "# m_mae.describe()\n",
    "\n",
    "# m_ndcg\n",
    "\n",
    "# combined.loc[combined['item_rec'] != combined['item_val'], 'score'] = 0\n",
    "# # combined_bias['score'][combined_bias['item_rec'] != combined_bias['item_val']] = 0\n",
    "\n",
    "# m_rmse = combined.groupby('user').apply(lambda df: rmse(df.score, df.rating))\n",
    "\n",
    "# m_mae = combined.groupby('user').apply(lambda df: mae(df.score, df.rating))\n",
    "\n",
    "# m_ndcg = topn.ndcg(recs, truth)\n",
    "\n",
    "\n",
    "# m_rmse.describe()\n",
    "\n",
    "# m_mae.describe()\n",
    "\n",
    "# m_ndcg"
   ]
  },
  {
   "cell_type": "markdown",
   "metadata": {},
   "source": [
    "# Popularity baseline Model"
   ]
  },
  {
   "cell_type": "code",
   "execution_count": 16,
   "metadata": {},
   "outputs": [],
   "source": [
    "# bias_errs = {}\n",
    "\n",
    "# # search\n",
    "# # damping_params = range(0, 301, 50)\n",
    "# damping_params = range(550, 801, 50)\n",
    "# for damp in damping_params:\n",
    "#     bias_errs[str(damp)] = []\n",
    "#     algo_bias = bias.Bias(items = True, users = True, damping = damp) #tunable: damping\n",
    "\n",
    "#     fittable_bias = util.clone(algo_bias)\n",
    "\n",
    "#     fittable_bias = Recommender.adapt(fittable_bias)\n",
    "\n",
    "#     fittable_bias.fit(train, n_jobs = -1)\n",
    "\n",
    "#     recs_bias = batch.recommend(fittable_bias, sub_ids, 500, n_jobs = 4)\n",
    "#     recs_bias['user'] = recs_bias['user'].map(int)\n",
    "#     # recs_bias.head()\n",
    "\n",
    "#     recs_bias_listed = pd.DataFrame({'item':recs_bias.groupby('user').item.apply(list)}).reset_index()\n",
    "#     bias_errs[str(damp)].append(pk(500, recs_bias_listed, truth_listed))\n",
    "#     bias_errs[str(damp)].append(meanAP(recs_bias_listed, truth_listed))\n",
    "#     bias_errs[str(damp)].append(ndcg(500,recs_bias_listed, truth_listed))\n",
    "\n",
    "# # with open('broad_bias_errs.pkl', 'rb') as f:\n",
    "# #     be2 = pickle.load(f)\n",
    "# # for kk, vv in be2.items():\n",
    "# #     print(kk, vv)"
   ]
  },
  {
   "cell_type": "code",
   "execution_count": 26,
   "metadata": {},
   "outputs": [
    {
     "name": "stdout",
     "output_type": "stream",
     "text": [
      "350 [0.001206999999999995, 0.0008415124671512697, 0.017014216311997087]\n",
      "400 [0.0012439999999999958, 0.0008986458215045353, 0.017740772308239873]\n",
      "450 [0.0012637999999999963, 0.0009570828751731549, 0.018252331042585022]\n",
      "500 [0.0013548000000000004, 0.0010114033708371734, 0.019488620023233233]\n",
      "550 [0.0014354000000000031, 0.0010508896009842248, 0.02056803929095203]\n",
      "600 [0.0014624000000000032, 0.0011045797707726426, 0.021097409096712493]\n",
      "650 [0.0014752000000000033, 0.0011639741300835903, 0.021482521759672257]\n",
      "700 [0.0015016000000000042, 0.0012171644284973671, 0.02197270689039014]\n",
      "750 [0.0015238000000000055, 0.0012451335710780935, 0.022388475391666926]\n",
      "800 [0.0015364000000000066, 0.0012685335549458096, 0.022670488792884563]\n"
     ]
    }
   ],
   "source": [
    "# for kk, vv in bias_errs.items():\n",
    "#     print(kk, vv)"
   ]
  },
  {
   "cell_type": "code",
   "execution_count": 25,
   "metadata": {},
   "outputs": [],
   "source": [
    "# with open('broad_bias_errs_3.pkl', 'wb') as f:\n",
    "#     pickle.dump(bias_errs, f)"
   ]
  },
  {
   "cell_type": "code",
   "execution_count": 8,
   "metadata": {},
   "outputs": [
    {
     "data": {
      "text/plain": [
       "<lenskit.algorithms.basic.TopN at 0x155479801940>"
      ]
     },
     "execution_count": 8,
     "metadata": {},
     "output_type": "execute_result"
    }
   ],
   "source": [
    "algo_bias = bias.Bias(items = True, users = True, damping = (1000000, 10000000)) #tunable: damping\n",
    "\n",
    "#fittable_bias = util.clone(algo_bias)\n",
    "fittable_bias = algo_bias\n",
    "fittable_bias = Recommender.adapt(fittable_bias)\n",
    "\n",
    "fittable_bias.fit(train, n_jobs = -1)"
   ]
  },
  {
   "cell_type": "code",
   "execution_count": 9,
   "metadata": {},
   "outputs": [
    {
     "data": {
      "text/html": [
       "<div>\n",
       "<style scoped>\n",
       "    .dataframe tbody tr th:only-of-type {\n",
       "        vertical-align: middle;\n",
       "    }\n",
       "\n",
       "    .dataframe tbody tr th {\n",
       "        vertical-align: top;\n",
       "    }\n",
       "\n",
       "    .dataframe thead th {\n",
       "        text-align: right;\n",
       "    }\n",
       "</style>\n",
       "<table border=\"1\" class=\"dataframe\">\n",
       "  <thead>\n",
       "    <tr style=\"text-align: right;\">\n",
       "      <th></th>\n",
       "      <th>item</th>\n",
       "      <th>score</th>\n",
       "      <th>user</th>\n",
       "      <th>rank</th>\n",
       "    </tr>\n",
       "  </thead>\n",
       "  <tbody>\n",
       "    <tr>\n",
       "      <th>0</th>\n",
       "      <td>202</td>\n",
       "      <td>2.926611</td>\n",
       "      <td>1029318</td>\n",
       "      <td>1</td>\n",
       "    </tr>\n",
       "    <tr>\n",
       "      <th>1</th>\n",
       "      <td>199</td>\n",
       "      <td>2.916619</td>\n",
       "      <td>1029318</td>\n",
       "      <td>2</td>\n",
       "    </tr>\n",
       "    <tr>\n",
       "      <th>2</th>\n",
       "      <td>218</td>\n",
       "      <td>2.906885</td>\n",
       "      <td>1029318</td>\n",
       "      <td>3</td>\n",
       "    </tr>\n",
       "    <tr>\n",
       "      <th>3</th>\n",
       "      <td>206</td>\n",
       "      <td>2.895803</td>\n",
       "      <td>1029318</td>\n",
       "      <td>4</td>\n",
       "    </tr>\n",
       "    <tr>\n",
       "      <th>4</th>\n",
       "      <td>5017</td>\n",
       "      <td>2.892731</td>\n",
       "      <td>1029318</td>\n",
       "      <td>5</td>\n",
       "    </tr>\n",
       "  </tbody>\n",
       "</table>\n",
       "</div>"
      ],
      "text/plain": [
       "   item     score     user  rank\n",
       "0   202  2.926611  1029318     1\n",
       "1   199  2.916619  1029318     2\n",
       "2   218  2.906885  1029318     3\n",
       "3   206  2.895803  1029318     4\n",
       "4  5017  2.892731  1029318     5"
      ]
     },
     "execution_count": 9,
     "metadata": {},
     "output_type": "execute_result"
    }
   ],
   "source": [
    "recs_bias = batch.recommend(fittable_bias, sub_ids, 500, n_jobs = 4)\n",
    "recs_bias['user'] = recs_bias['user'].map(int)\n",
    "recs_bias.head()"
   ]
  },
  {
   "cell_type": "code",
   "execution_count": 10,
   "metadata": {},
   "outputs": [],
   "source": [
    "recs_bias_listed = pd.DataFrame({'item':recs_bias.groupby('user').item.apply(list)}).reset_index()"
   ]
  },
  {
   "cell_type": "code",
   "execution_count": 11,
   "metadata": {},
   "outputs": [
    {
     "data": {
      "text/html": [
       "<div>\n",
       "<style scoped>\n",
       "    .dataframe tbody tr th:only-of-type {\n",
       "        vertical-align: middle;\n",
       "    }\n",
       "\n",
       "    .dataframe tbody tr th {\n",
       "        vertical-align: top;\n",
       "    }\n",
       "\n",
       "    .dataframe thead th {\n",
       "        text-align: right;\n",
       "    }\n",
       "</style>\n",
       "<table border=\"1\" class=\"dataframe\">\n",
       "  <thead>\n",
       "    <tr style=\"text-align: right;\">\n",
       "      <th></th>\n",
       "      <th>user</th>\n",
       "      <th>item</th>\n",
       "    </tr>\n",
       "  </thead>\n",
       "  <tbody>\n",
       "    <tr>\n",
       "      <th>0</th>\n",
       "      <td>1029318</td>\n",
       "      <td>[202, 199, 218, 206, 5017, 1824, 222, 2674, 22...</td>\n",
       "    </tr>\n",
       "    <tr>\n",
       "      <th>1</th>\n",
       "      <td>1029319</td>\n",
       "      <td>[202, 199, 218, 206, 5017, 1824, 222, 2674, 22...</td>\n",
       "    </tr>\n",
       "    <tr>\n",
       "      <th>2</th>\n",
       "      <td>1029320</td>\n",
       "      <td>[202, 199, 218, 206, 5017, 1824, 222, 2674, 22...</td>\n",
       "    </tr>\n",
       "    <tr>\n",
       "      <th>3</th>\n",
       "      <td>1029321</td>\n",
       "      <td>[202, 199, 218, 206, 5017, 1824, 222, 2674, 22...</td>\n",
       "    </tr>\n",
       "    <tr>\n",
       "      <th>4</th>\n",
       "      <td>1029322</td>\n",
       "      <td>[202, 199, 218, 206, 5017, 1824, 222, 2674, 22...</td>\n",
       "    </tr>\n",
       "  </tbody>\n",
       "</table>\n",
       "</div>"
      ],
      "text/plain": [
       "      user                                               item\n",
       "0  1029318  [202, 199, 218, 206, 5017, 1824, 222, 2674, 22...\n",
       "1  1029319  [202, 199, 218, 206, 5017, 1824, 222, 2674, 22...\n",
       "2  1029320  [202, 199, 218, 206, 5017, 1824, 222, 2674, 22...\n",
       "3  1029321  [202, 199, 218, 206, 5017, 1824, 222, 2674, 22...\n",
       "4  1029322  [202, 199, 218, 206, 5017, 1824, 222, 2674, 22..."
      ]
     },
     "execution_count": 11,
     "metadata": {},
     "output_type": "execute_result"
    }
   ],
   "source": [
    "recs_bias_listed.head()"
   ]
  },
  {
   "cell_type": "code",
   "execution_count": 12,
   "metadata": {},
   "outputs": [],
   "source": [
    "recs_bias_listed.to_pickle('recs_bias_final.pkl')"
   ]
  },
  {
   "cell_type": "code",
   "execution_count": 17,
   "metadata": {},
   "outputs": [
    {
     "name": "stderr",
     "output_type": "stream",
     "text": [
      "100%|██████████| 100000/100000 [02:03<00:00, 809.57it/s]\n"
     ]
    },
    {
     "data": {
      "text/plain": [
       "0.003123780000000688"
      ]
     },
     "execution_count": 17,
     "metadata": {},
     "output_type": "execute_result"
    }
   ],
   "source": [
    "pk(500, recs_bias_listed, truth_listed)"
   ]
  },
  {
   "cell_type": "code",
   "execution_count": 18,
   "metadata": {},
   "outputs": [
    {
     "name": "stderr",
     "output_type": "stream",
     "text": [
      "100%|██████████| 100000/100000 [02:09<00:00, 772.06it/s]\n"
     ]
    },
    {
     "data": {
      "text/plain": [
       "0.011919438084520916"
      ]
     },
     "execution_count": 18,
     "metadata": {},
     "output_type": "execute_result"
    }
   ],
   "source": [
    "meanAP(recs_bias_listed, truth_listed)"
   ]
  },
  {
   "cell_type": "code",
   "execution_count": 19,
   "metadata": {},
   "outputs": [
    {
     "name": "stderr",
     "output_type": "stream",
     "text": [
      "100%|██████████| 100000/100000 [05:22<00:00, 310.25it/s]\n"
     ]
    },
    {
     "data": {
      "text/plain": [
       "0.06723044157342824"
      ]
     },
     "execution_count": 19,
     "metadata": {},
     "output_type": "execute_result"
    }
   ],
   "source": [
    "ndcg(500,recs_bias_listed, truth_listed)"
   ]
  },
  {
   "cell_type": "code",
   "execution_count": null,
   "metadata": {},
   "outputs": [],
   "source": [
    "# combined_bias = recs_bias.join(truth, on = ['user'], how = 'inner', lsuffix = '_rec', rsuffix = '_val')\n",
    "\n",
    "# combined_bias = combined_bias.dropna()\n",
    "\n",
    "# len(combined_bias.user.unique())\n",
    "\n",
    "# combined_bias.head()\n",
    "\n",
    "# m_rmse_bias = combined_bias.groupby('user').apply(lambda df: rmse(df.score, df.rating))\n",
    "\n",
    "# m_mae_bias = combined_bias.groupby('user').apply(lambda df: mae(df.score, df.rating))\n",
    "\n",
    "# m_ndcg_bias = topn.ndcg(recs_bias, truth)\n",
    "\n",
    "# # rla = topn.RecListAnalysis()\n",
    "\n",
    "# # rla.add_metric(topn.ndcg)\n",
    "\n",
    "# # m_ndcg = rla.compute(recs_bias, truth)\n",
    "\n",
    "# m_rmse_bias.describe()\n",
    "\n",
    "# m_mae_bias.describe()\n",
    "\n",
    "# m_ndcg_bias\n",
    "\n",
    "# combined_bias.loc[combined_bias['item_rec'] != combined_bias['item_val'], 'score'] = 0\n",
    "# # combined_bias['score'][combined_bias['item_rec'] != combined_bias['item_val']] = 0\n",
    "\n",
    "# m_rmse_bias = combined_bias.groupby('user').apply(lambda df: rmse(df.score, df.rating))\n",
    "\n",
    "# m_mae_bias = combined_bias.groupby('user').apply(lambda df: mae(df.score, df.rating))\n",
    "\n",
    "# m_ndcg_bias = topn.ndcg(recs_bias, truth)\n",
    "\n",
    "# # rla = topn.RecListAnalysis()\n",
    "\n",
    "# # rla.add_metric(topn.ndcg)\n",
    "\n",
    "# # m_ndcg = rla.compute(recs_bias, truth)\n",
    "\n",
    "# m_rmse_bias.describe()\n",
    "\n",
    "# m_mae_bias.describe()\n",
    "\n",
    "# m_ndcg_bias"
   ]
  }
 ],
 "metadata": {
  "kernelspec": {
   "display_name": "Python 3",
   "language": "python",
   "name": "python3"
  },
  "language_info": {
   "codemirror_mode": {
    "name": "ipython",
    "version": 3
   },
   "file_extension": ".py",
   "mimetype": "text/x-python",
   "name": "python",
   "nbconvert_exporter": "python",
   "pygments_lexer": "ipython3",
   "version": "3.8.8"
  }
 },
 "nbformat": 4,
 "nbformat_minor": 4
}
